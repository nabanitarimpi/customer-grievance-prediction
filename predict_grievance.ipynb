{
 "cells": [
  {
   "cell_type": "code",
   "execution_count": 1,
   "metadata": {},
   "outputs": [],
   "source": [
    "import pandas as pd\n",
    "import numpy as np\n",
    "import matplotlib.pyplot as plt\n",
    "import seaborn as sns"
   ]
  },
  {
   "cell_type": "code",
   "execution_count": 2,
   "metadata": {},
   "outputs": [
    {
     "name": "stderr",
     "output_type": "stream",
     "text": [
      "/home/admin1/anaconda3/envs/my_env_py3.7.4/lib/python3.7/site-packages/IPython/core/interactiveshell.py:2714: DtypeWarning: Columns (16,17,18,19,20,22,23,24,25,26,27,28,45,49,50,51) have mixed types.Specify dtype option on import or set low_memory=False.\n",
      "  interactivity=interactivity, compiler=compiler, result=result)\n",
      "/home/admin1/anaconda3/envs/my_env_py3.7.4/lib/python3.7/site-packages/IPython/core/interactiveshell.py:2714: DtypeWarning: Columns (14,15,16,17,18,19,20,22,23,24,25,49,50,51) have mixed types.Specify dtype option on import or set low_memory=False.\n",
      "  interactivity=interactivity, compiler=compiler, result=result)\n"
     ]
    }
   ],
   "source": [
    "train_df = pd.read_csv(\"train.csv\")\n",
    "test_df = pd.read_csv(\"test.csv\")"
   ]
  },
  {
   "cell_type": "code",
   "execution_count": 10,
   "metadata": {},
   "outputs": [
    {
     "name": "stdout",
     "output_type": "stream",
     "text": [
      "Mixed data type columns in the training set :  Index(['issue.15', 'issue.16', 'issue.17', 'issue.18', 'issue.19', 'issue.20',\n",
      "       'issue.21', 'issue.22', 'issue.23', 'issue.24', 'issue.25', 'issue.26',\n",
      "       'parties.2', 'respondent.2', 'respondent.3', 'respondent.4'],\n",
      "      dtype='object')\n",
      "Mixed data type columns in the test set :  Index(['issue.13', 'issue.14', 'issue.15', 'issue.16', 'issue.17', 'issue.18',\n",
      "       'issue.19', 'issue.20', 'issue.21', 'issue.22', 'issue.23',\n",
      "       'respondent.2', 'respondent.3', 'respondent.4'],\n",
      "      dtype='object')\n"
     ]
    }
   ],
   "source": [
    "# columns with mixed types in both train and test sets\n",
    "train_mixed_cols = [16,17,18,19,20,22,23,24,25,26,27,28,45,49,50,51]\n",
    "test_mixed_cols = [14,15,16,17,18,19,20,22,23,24,25,49,50,51]\n",
    "\n",
    "mixed_cols_train = train_df.iloc[:,train_mixed_cols].columns\n",
    "mixed_cols_test = test_df.iloc[:,test_mixed_cols].columns\n",
    "\n",
    "print(\"Mixed data type columns in the training set : \", mixed_cols_train)\n",
    "print(\"Mixed data type columns in the test set : \", mixed_cols_test)"
   ]
  },
  {
   "cell_type": "code",
   "execution_count": 12,
   "metadata": {},
   "outputs": [
    {
     "data": {
      "text/html": [
       "<div>\n",
       "<style scoped>\n",
       "    .dataframe tbody tr th:only-of-type {\n",
       "        vertical-align: middle;\n",
       "    }\n",
       "\n",
       "    .dataframe tbody tr th {\n",
       "        vertical-align: top;\n",
       "    }\n",
       "\n",
       "    .dataframe thead th {\n",
       "        text-align: right;\n",
       "    }\n",
       "</style>\n",
       "<table border=\"1\" class=\"dataframe\">\n",
       "  <thead>\n",
       "    <tr style=\"text-align: right;\">\n",
       "      <th></th>\n",
       "      <th>appno</th>\n",
       "      <th>application</th>\n",
       "      <th>country.alpha2</th>\n",
       "      <th>country.name</th>\n",
       "      <th>decisiondate</th>\n",
       "      <th>docname</th>\n",
       "      <th>doctypebranch</th>\n",
       "      <th>ecli</th>\n",
       "      <th>introductiondate</th>\n",
       "      <th>issue.0</th>\n",
       "      <th>...</th>\n",
       "      <th>ccl_article=6</th>\n",
       "      <th>ccl_article=7</th>\n",
       "      <th>ccl_article=8</th>\n",
       "      <th>ccl_article=9</th>\n",
       "      <th>ccl_article=p1</th>\n",
       "      <th>ccl_article=p12</th>\n",
       "      <th>ccl_article=p4</th>\n",
       "      <th>ccl_article=p6</th>\n",
       "      <th>ccl_article=p7</th>\n",
       "      <th>importance</th>\n",
       "    </tr>\n",
       "  </thead>\n",
       "  <tbody>\n",
       "    <tr>\n",
       "      <th>0</th>\n",
       "      <td>2052/08</td>\n",
       "      <td>MS WORD</td>\n",
       "      <td>ru</td>\n",
       "      <td>Russian Federation</td>\n",
       "      <td>NaN</td>\n",
       "      <td>CASE OF KOKOSHKINA v. RUSSIA</td>\n",
       "      <td>CHAMBER</td>\n",
       "      <td>ECLI:CE:ECHR:2009:0528JUD000205208</td>\n",
       "      <td>NaN</td>\n",
       "      <td>NaN</td>\n",
       "      <td>...</td>\n",
       "      <td>0</td>\n",
       "      <td>0</td>\n",
       "      <td>0</td>\n",
       "      <td>0</td>\n",
       "      <td>0</td>\n",
       "      <td>0</td>\n",
       "      <td>0</td>\n",
       "      <td>0</td>\n",
       "      <td>0</td>\n",
       "      <td>4</td>\n",
       "    </tr>\n",
       "    <tr>\n",
       "      <th>1</th>\n",
       "      <td>4728/07</td>\n",
       "      <td>MS WORD</td>\n",
       "      <td>tr</td>\n",
       "      <td>Turkey</td>\n",
       "      <td>NaN</td>\n",
       "      <td>CASE OF ÖZCAN v. TURKEY</td>\n",
       "      <td>COMMITTEE</td>\n",
       "      <td>ECLI:CE:ECHR:2018:0710JUD000472807</td>\n",
       "      <td>NaN</td>\n",
       "      <td>NaN</td>\n",
       "      <td>...</td>\n",
       "      <td>0</td>\n",
       "      <td>0</td>\n",
       "      <td>0</td>\n",
       "      <td>0</td>\n",
       "      <td>0</td>\n",
       "      <td>0</td>\n",
       "      <td>0</td>\n",
       "      <td>0</td>\n",
       "      <td>0</td>\n",
       "      <td>4</td>\n",
       "    </tr>\n",
       "    <tr>\n",
       "      <th>2</th>\n",
       "      <td>44135/06</td>\n",
       "      <td>MS WORD</td>\n",
       "      <td>si</td>\n",
       "      <td>Slovenia</td>\n",
       "      <td>NaN</td>\n",
       "      <td>CASE OF DANIJEL PEČNIK v. SLOVENIA</td>\n",
       "      <td>CHAMBER</td>\n",
       "      <td>ECLI:CE:ECHR:2012:1018JUD004413506</td>\n",
       "      <td>NaN</td>\n",
       "      <td>NaN</td>\n",
       "      <td>...</td>\n",
       "      <td>1</td>\n",
       "      <td>0</td>\n",
       "      <td>0</td>\n",
       "      <td>0</td>\n",
       "      <td>0</td>\n",
       "      <td>0</td>\n",
       "      <td>0</td>\n",
       "      <td>0</td>\n",
       "      <td>0</td>\n",
       "      <td>4</td>\n",
       "    </tr>\n",
       "    <tr>\n",
       "      <th>3</th>\n",
       "      <td>2607/08</td>\n",
       "      <td>MS WORD</td>\n",
       "      <td>ch</td>\n",
       "      <td>Switzerland</td>\n",
       "      <td>NaN</td>\n",
       "      <td>CASE OF PALANCI v. SWITZERLAND</td>\n",
       "      <td>CHAMBER</td>\n",
       "      <td>ECLI:CE:ECHR:2014:0325JUD000260708</td>\n",
       "      <td>NaN</td>\n",
       "      <td>NaN</td>\n",
       "      <td>...</td>\n",
       "      <td>0</td>\n",
       "      <td>0</td>\n",
       "      <td>-1</td>\n",
       "      <td>0</td>\n",
       "      <td>0</td>\n",
       "      <td>0</td>\n",
       "      <td>0</td>\n",
       "      <td>0</td>\n",
       "      <td>0</td>\n",
       "      <td>4</td>\n",
       "    </tr>\n",
       "    <tr>\n",
       "      <th>4</th>\n",
       "      <td>27001/06</td>\n",
       "      <td>MS WORD</td>\n",
       "      <td>ru</td>\n",
       "      <td>Russian Federation</td>\n",
       "      <td>NaN</td>\n",
       "      <td>CASE OF AMANAT ILYASOVA AND OTHERS v. RUSSIA</td>\n",
       "      <td>CHAMBER</td>\n",
       "      <td>ECLI:CE:ECHR:2009:1001JUD002700106</td>\n",
       "      <td>NaN</td>\n",
       "      <td>NaN</td>\n",
       "      <td>...</td>\n",
       "      <td>0</td>\n",
       "      <td>0</td>\n",
       "      <td>0</td>\n",
       "      <td>0</td>\n",
       "      <td>0</td>\n",
       "      <td>0</td>\n",
       "      <td>0</td>\n",
       "      <td>0</td>\n",
       "      <td>0</td>\n",
       "      <td>4</td>\n",
       "    </tr>\n",
       "  </tbody>\n",
       "</table>\n",
       "<p>5 rows × 328 columns</p>\n",
       "</div>"
      ],
      "text/plain": [
       "      appno application country.alpha2        country.name decisiondate  \\\n",
       "0   2052/08     MS WORD             ru  Russian Federation          NaN   \n",
       "1   4728/07     MS WORD             tr              Turkey          NaN   \n",
       "2  44135/06     MS WORD             si            Slovenia          NaN   \n",
       "3   2607/08     MS WORD             ch         Switzerland          NaN   \n",
       "4  27001/06     MS WORD             ru  Russian Federation          NaN   \n",
       "\n",
       "                                        docname doctypebranch  \\\n",
       "0                  CASE OF KOKOSHKINA v. RUSSIA       CHAMBER   \n",
       "1                       CASE OF ÖZCAN v. TURKEY     COMMITTEE   \n",
       "2            CASE OF DANIJEL PEČNIK v. SLOVENIA       CHAMBER   \n",
       "3                CASE OF PALANCI v. SWITZERLAND       CHAMBER   \n",
       "4  CASE OF AMANAT ILYASOVA AND OTHERS v. RUSSIA       CHAMBER   \n",
       "\n",
       "                                 ecli introductiondate issue.0  ...  \\\n",
       "0  ECLI:CE:ECHR:2009:0528JUD000205208              NaN     NaN  ...   \n",
       "1  ECLI:CE:ECHR:2018:0710JUD000472807              NaN     NaN  ...   \n",
       "2  ECLI:CE:ECHR:2012:1018JUD004413506              NaN     NaN  ...   \n",
       "3  ECLI:CE:ECHR:2014:0325JUD000260708              NaN     NaN  ...   \n",
       "4  ECLI:CE:ECHR:2009:1001JUD002700106              NaN     NaN  ...   \n",
       "\n",
       "  ccl_article=6 ccl_article=7 ccl_article=8 ccl_article=9 ccl_article=p1  \\\n",
       "0             0             0             0             0              0   \n",
       "1             0             0             0             0              0   \n",
       "2             1             0             0             0              0   \n",
       "3             0             0            -1             0              0   \n",
       "4             0             0             0             0              0   \n",
       "\n",
       "  ccl_article=p12 ccl_article=p4 ccl_article=p6 ccl_article=p7 importance  \n",
       "0               0              0              0              0          4  \n",
       "1               0              0              0              0          4  \n",
       "2               0              0              0              0          4  \n",
       "3               0              0              0              0          4  \n",
       "4               0              0              0              0          4  \n",
       "\n",
       "[5 rows x 328 columns]"
      ]
     },
     "execution_count": 12,
     "metadata": {},
     "output_type": "execute_result"
    }
   ],
   "source": [
    "train_df.head()"
   ]
  },
  {
   "cell_type": "code",
   "execution_count": 13,
   "metadata": {},
   "outputs": [
    {
     "data": {
      "text/html": [
       "<div>\n",
       "<style scoped>\n",
       "    .dataframe tbody tr th:only-of-type {\n",
       "        vertical-align: middle;\n",
       "    }\n",
       "\n",
       "    .dataframe tbody tr th {\n",
       "        vertical-align: top;\n",
       "    }\n",
       "\n",
       "    .dataframe thead th {\n",
       "        text-align: right;\n",
       "    }\n",
       "</style>\n",
       "<table border=\"1\" class=\"dataframe\">\n",
       "  <thead>\n",
       "    <tr style=\"text-align: right;\">\n",
       "      <th></th>\n",
       "      <th>appno</th>\n",
       "      <th>application</th>\n",
       "      <th>country.alpha2</th>\n",
       "      <th>country.name</th>\n",
       "      <th>decisiondate</th>\n",
       "      <th>docname</th>\n",
       "      <th>doctypebranch</th>\n",
       "      <th>ecli</th>\n",
       "      <th>introductiondate</th>\n",
       "      <th>issue.0</th>\n",
       "      <th>...</th>\n",
       "      <th>ccl_article=5</th>\n",
       "      <th>ccl_article=6</th>\n",
       "      <th>ccl_article=7</th>\n",
       "      <th>ccl_article=8</th>\n",
       "      <th>ccl_article=9</th>\n",
       "      <th>ccl_article=p1</th>\n",
       "      <th>ccl_article=p12</th>\n",
       "      <th>ccl_article=p4</th>\n",
       "      <th>ccl_article=p6</th>\n",
       "      <th>ccl_article=p7</th>\n",
       "    </tr>\n",
       "  </thead>\n",
       "  <tbody>\n",
       "    <tr>\n",
       "      <th>0</th>\n",
       "      <td>1194/04</td>\n",
       "      <td>MS WORD</td>\n",
       "      <td>mk</td>\n",
       "      <td>North Macedonia</td>\n",
       "      <td>NaN</td>\n",
       "      <td>CASE OF CAMINSKI v. \"THE FORMER YUGOSLAV REPUB...</td>\n",
       "      <td>COMMITTEE</td>\n",
       "      <td>ECLI:CE:ECHR:2011:0224JUD000119404</td>\n",
       "      <td>NaN</td>\n",
       "      <td>NaN</td>\n",
       "      <td>...</td>\n",
       "      <td>0</td>\n",
       "      <td>1</td>\n",
       "      <td>0</td>\n",
       "      <td>0</td>\n",
       "      <td>0</td>\n",
       "      <td>0</td>\n",
       "      <td>0</td>\n",
       "      <td>0</td>\n",
       "      <td>0</td>\n",
       "      <td>0</td>\n",
       "    </tr>\n",
       "    <tr>\n",
       "      <th>1</th>\n",
       "      <td>53865/11</td>\n",
       "      <td>MS WORD</td>\n",
       "      <td>ua</td>\n",
       "      <td>Ukraine</td>\n",
       "      <td>NaN</td>\n",
       "      <td>CASE OF KUSHCH v. UKRAINE</td>\n",
       "      <td>CHAMBER</td>\n",
       "      <td>ECLI:CE:ECHR:2015:1203JUD005386511</td>\n",
       "      <td>NaN</td>\n",
       "      <td>NaN</td>\n",
       "      <td>...</td>\n",
       "      <td>1</td>\n",
       "      <td>0</td>\n",
       "      <td>0</td>\n",
       "      <td>0</td>\n",
       "      <td>0</td>\n",
       "      <td>0</td>\n",
       "      <td>0</td>\n",
       "      <td>0</td>\n",
       "      <td>0</td>\n",
       "      <td>0</td>\n",
       "    </tr>\n",
       "    <tr>\n",
       "      <th>2</th>\n",
       "      <td>43838/07</td>\n",
       "      <td>MS WORD</td>\n",
       "      <td>ie</td>\n",
       "      <td>Ireland</td>\n",
       "      <td>NaN</td>\n",
       "      <td>CASE OF O. v. IRELAND</td>\n",
       "      <td>COMMITTEE</td>\n",
       "      <td>ECLI:CE:ECHR:2012:0119JUD004383807</td>\n",
       "      <td>NaN</td>\n",
       "      <td>NaN</td>\n",
       "      <td>...</td>\n",
       "      <td>0</td>\n",
       "      <td>1</td>\n",
       "      <td>0</td>\n",
       "      <td>0</td>\n",
       "      <td>0</td>\n",
       "      <td>0</td>\n",
       "      <td>0</td>\n",
       "      <td>0</td>\n",
       "      <td>0</td>\n",
       "      <td>0</td>\n",
       "    </tr>\n",
       "    <tr>\n",
       "      <th>3</th>\n",
       "      <td>11157/04</td>\n",
       "      <td>MS WORD</td>\n",
       "      <td>ru</td>\n",
       "      <td>Russian Federation</td>\n",
       "      <td>NaN</td>\n",
       "      <td>CASE OF ANCHUGOV AND GLADKOV v. RUSSIA</td>\n",
       "      <td>CHAMBER</td>\n",
       "      <td>ECLI:CE:ECHR:2013:0704JUD001115704</td>\n",
       "      <td>NaN</td>\n",
       "      <td>Articles 32-33,134 and 135 of the Constitution</td>\n",
       "      <td>...</td>\n",
       "      <td>0</td>\n",
       "      <td>0</td>\n",
       "      <td>0</td>\n",
       "      <td>0</td>\n",
       "      <td>0</td>\n",
       "      <td>0</td>\n",
       "      <td>0</td>\n",
       "      <td>0</td>\n",
       "      <td>0</td>\n",
       "      <td>0</td>\n",
       "    </tr>\n",
       "    <tr>\n",
       "      <th>4</th>\n",
       "      <td>42443/02</td>\n",
       "      <td>MS WORD</td>\n",
       "      <td>ru</td>\n",
       "      <td>Russian Federation</td>\n",
       "      <td>NaN</td>\n",
       "      <td>CASE OF EMINBEYLI v. RUSSIA</td>\n",
       "      <td>CHAMBER</td>\n",
       "      <td>ECLI:CE:ECHR:2009:0226JUD004244302</td>\n",
       "      <td>NaN</td>\n",
       "      <td>Articles 1, 11, 89, 96 and 122 of the Code of ...</td>\n",
       "      <td>...</td>\n",
       "      <td>1</td>\n",
       "      <td>0</td>\n",
       "      <td>0</td>\n",
       "      <td>0</td>\n",
       "      <td>0</td>\n",
       "      <td>0</td>\n",
       "      <td>0</td>\n",
       "      <td>0</td>\n",
       "      <td>0</td>\n",
       "      <td>0</td>\n",
       "    </tr>\n",
       "  </tbody>\n",
       "</table>\n",
       "<p>5 rows × 327 columns</p>\n",
       "</div>"
      ],
      "text/plain": [
       "      appno application country.alpha2        country.name decisiondate  \\\n",
       "0   1194/04     MS WORD             mk     North Macedonia          NaN   \n",
       "1  53865/11     MS WORD             ua             Ukraine          NaN   \n",
       "2  43838/07     MS WORD             ie             Ireland          NaN   \n",
       "3  11157/04     MS WORD             ru  Russian Federation          NaN   \n",
       "4  42443/02     MS WORD             ru  Russian Federation          NaN   \n",
       "\n",
       "                                             docname doctypebranch  \\\n",
       "0  CASE OF CAMINSKI v. \"THE FORMER YUGOSLAV REPUB...     COMMITTEE   \n",
       "1                          CASE OF KUSHCH v. UKRAINE       CHAMBER   \n",
       "2                              CASE OF O. v. IRELAND     COMMITTEE   \n",
       "3             CASE OF ANCHUGOV AND GLADKOV v. RUSSIA       CHAMBER   \n",
       "4                        CASE OF EMINBEYLI v. RUSSIA       CHAMBER   \n",
       "\n",
       "                                 ecli introductiondate  \\\n",
       "0  ECLI:CE:ECHR:2011:0224JUD000119404              NaN   \n",
       "1  ECLI:CE:ECHR:2015:1203JUD005386511              NaN   \n",
       "2  ECLI:CE:ECHR:2012:0119JUD004383807              NaN   \n",
       "3  ECLI:CE:ECHR:2013:0704JUD001115704              NaN   \n",
       "4  ECLI:CE:ECHR:2009:0226JUD004244302              NaN   \n",
       "\n",
       "                                             issue.0  ... ccl_article=5  \\\n",
       "0                                                NaN  ...             0   \n",
       "1                                                NaN  ...             1   \n",
       "2                                                NaN  ...             0   \n",
       "3     Articles 32-33,134 and 135 of the Constitution  ...             0   \n",
       "4  Articles 1, 11, 89, 96 and 122 of the Code of ...  ...             1   \n",
       "\n",
       "  ccl_article=6 ccl_article=7 ccl_article=8 ccl_article=9 ccl_article=p1  \\\n",
       "0             1             0             0             0              0   \n",
       "1             0             0             0             0              0   \n",
       "2             1             0             0             0              0   \n",
       "3             0             0             0             0              0   \n",
       "4             0             0             0             0              0   \n",
       "\n",
       "  ccl_article=p12 ccl_article=p4 ccl_article=p6 ccl_article=p7  \n",
       "0               0              0              0              0  \n",
       "1               0              0              0              0  \n",
       "2               0              0              0              0  \n",
       "3               0              0              0              0  \n",
       "4               0              0              0              0  \n",
       "\n",
       "[5 rows x 327 columns]"
      ]
     },
     "execution_count": 13,
     "metadata": {},
     "output_type": "execute_result"
    }
   ],
   "source": [
    "test_df.head()"
   ]
  },
  {
   "cell_type": "code",
   "execution_count": 14,
   "metadata": {},
   "outputs": [
    {
     "name": "stdout",
     "output_type": "stream",
     "text": [
      "The shape of the training dataset : (8878, 328)\n",
      "The shape of the test dataset : (4760, 327)\n"
     ]
    }
   ],
   "source": [
    "print(\"The shape of the training dataset : {}\".format(train_df.shape))\n",
    "print(\"The shape of the test dataset : {}\".format(test_df.shape))"
   ]
  },
  {
   "cell_type": "code",
   "execution_count": 15,
   "metadata": {},
   "outputs": [
    {
     "data": {
      "text/plain": [
       "Text(0, 0.5, '% of null values in the training set')"
      ]
     },
     "execution_count": 15,
     "metadata": {},
     "output_type": "execute_result"
    },
    {
     "data": {
      "image/png": "[encoded data removed]",
      "text/plain": [
       "<Figure size 1008x720 with 1 Axes>"
      ]
     },
     "metadata": {
      "needs_background": "light"
     },
     "output_type": "display_data"
    }
   ],
   "source": [
    "train_null_cols = train_df.isnull().sum().sort_values(ascending=False)/len(train_df)*100\n",
    "train_null_cols[:40].plot(kind='bar', figsize=(14,10))\n",
    "plt.ylabel(\"% of null values in the training set\")"
   ]
  },
  {
   "cell_type": "code",
   "execution_count": 16,
   "metadata": {},
   "outputs": [
    {
     "data": {
      "text/plain": [
       "Text(0, 0.5, '% of null values in the training set')"
      ]
     },
     "execution_count": 16,
     "metadata": {},
     "output_type": "execute_result"
    },
    {
     "data": {
      "image/png": "[encoded data removed]",
      "text/plain": [
       "<Figure size 1008x720 with 1 Axes>"
      ]
     },
     "metadata": {
      "needs_background": "light"
     },
     "output_type": "display_data"
    }
   ],
   "source": [
    "test_null_cols = test_df.isnull().sum().sort_values(ascending=False)/len(test_df)*100\n",
    "test_null_cols[:40].plot(kind='bar', figsize=(14,10))\n",
    "plt.ylabel(\"% of null values in the training set\")"
   ]
  },
  {
   "cell_type": "code",
   "execution_count": 17,
   "metadata": {},
   "outputs": [],
   "source": [
    "# store the columns with >60% values as NULL\n",
    "train_null_arr = np.array(train_null_cols[:34].index)\n",
    "test_null_arr = np.array(test_null_cols[:34].index)"
   ]
  },
  {
   "cell_type": "code",
   "execution_count": 18,
   "metadata": {},
   "outputs": [
    {
     "data": {
      "text/plain": [
       "(34, 34)"
      ]
     },
     "execution_count": 18,
     "metadata": {},
     "output_type": "execute_result"
    }
   ],
   "source": [
    "# check whether these NULL columns are same in number in both the cases\n",
    "len(train_null_arr), len(test_null_arr)"
   ]
  },
  {
   "cell_type": "code",
   "execution_count": 19,
   "metadata": {},
   "outputs": [
    {
     "data": {
      "text/plain": [
       "set()"
      ]
     },
     "execution_count": 19,
     "metadata": {},
     "output_type": "execute_result"
    }
   ],
   "source": [
    "# Are these columns same in both the cases. if yes, then we should get back a null set below\n",
    "set(train_null_arr).difference(test_null_arr)"
   ]
  },
  {
   "cell_type": "code",
   "execution_count": 20,
   "metadata": {},
   "outputs": [],
   "source": [
    "# drop these columns\n",
    "train_df.drop(train_null_arr,axis=1,inplace=True)\n",
    "test_df.drop(test_null_arr,axis=1,inplace=True)"
   ]
  },
  {
   "cell_type": "code",
   "execution_count": 21,
   "metadata": {},
   "outputs": [
    {
     "name": "stdout",
     "output_type": "stream",
     "text": [
      "The shape of the training dataset after dropping null columns : (8878, 294)\n",
      "The shape of the test dataset after dropping null columns : (4760, 293)\n"
     ]
    }
   ],
   "source": [
    "print(\"The shape of the training dataset after dropping null columns : {}\".format(train_df.shape))\n",
    "print(\"The shape of the test dataset after dropping null columns : {}\".format(test_df.shape))"
   ]
  },
  {
   "cell_type": "code",
   "execution_count": 22,
   "metadata": {},
   "outputs": [],
   "source": [
    "# how many columns have only one unique value?\n",
    "cols_with_one_val_train = np.array(train_df.nunique()[train_df.nunique()==1].index)\n",
    "cols_with_one_val_test = np.array(test_df.nunique()[test_df.nunique()==1].index)"
   ]
  },
  {
   "cell_type": "code",
   "execution_count": 23,
   "metadata": {},
   "outputs": [
    {
     "data": {
      "text/plain": [
       "(46, 23)"
      ]
     },
     "execution_count": 23,
     "metadata": {},
     "output_type": "execute_result"
    }
   ],
   "source": [
    "len(cols_with_one_val_test), len(cols_with_one_val_train)"
   ]
  },
  {
   "cell_type": "code",
   "execution_count": 24,
   "metadata": {},
   "outputs": [
    {
     "data": {
      "text/plain": [
       "array(['application', 'languageisocode', 'originatingbody_type',\n",
       "       'documentcollectionid=CASELAW', 'documentcollectionid=JUDGMENTS',\n",
       "       'documentcollectionid=ENG', 'applicability=51', 'applicability=7',\n",
       "       'applicability=28', 'applicability=29', 'applicability=31',\n",
       "       'applicability=19', 'applicability=40', 'applicability=34',\n",
       "       'applicability=27', 'applicability=64', 'applicability=4',\n",
       "       'applicability=77', 'paragraphs=7-2', 'paragraphs=28-3',\n",
       "       'paragraphs=27-1-b', 'paragraphs=32-2', 'paragraphs=46-4'],\n",
       "      dtype=object)"
      ]
     },
     "execution_count": 24,
     "metadata": {},
     "output_type": "execute_result"
    }
   ],
   "source": [
    "cols_with_one_val_train"
   ]
  },
  {
   "cell_type": "code",
   "execution_count": 25,
   "metadata": {},
   "outputs": [
    {
     "data": {
      "text/plain": [
       "array(['application', 'languageisocode', 'originatingbody_type',\n",
       "       'article=33', 'article=52', 'article=P13',\n",
       "       'documentcollectionid=CASELAW', 'documentcollectionid=JUDGMENTS',\n",
       "       'documentcollectionid=ENG', 'applicability=22', 'applicability=15',\n",
       "       'applicability=50', 'applicability=6', 'applicability=81',\n",
       "       'applicability=66', 'applicability=49', 'applicability=63',\n",
       "       'applicability=68', 'applicability=46', 'applicability=35',\n",
       "       'applicability=54', 'applicability=16', 'applicability=57',\n",
       "       'applicability=2', 'applicability=67', 'applicability=71',\n",
       "       'applicability=59', 'paragraphs=27-2', 'paragraphs=35-2',\n",
       "       'paragraphs=P1-4', 'paragraphs=56-1', 'paragraphs=P7-1-2',\n",
       "       'paragraphs=15-3', 'paragraphs=33', 'paragraphs=28-1-a',\n",
       "       'paragraphs=4-3', 'paragraphs=52', 'paragraphs=P13-1',\n",
       "       'paragraphs=P7-4-1', 'paragraphs=P4-3', 'paragraphs=29-1',\n",
       "       'paragraphs=28-1', 'paragraphs=P6-2', 'ccl_article=17',\n",
       "       'ccl_article=46', 'ccl_article=p12'], dtype=object)"
      ]
     },
     "execution_count": 25,
     "metadata": {},
     "output_type": "execute_result"
    }
   ],
   "source": [
    "cols_with_one_val_test"
   ]
  },
  {
   "cell_type": "code",
   "execution_count": 26,
   "metadata": {},
   "outputs": [
    {
     "data": {
      "text/plain": [
       "{'application',\n",
       " 'documentcollectionid=CASELAW',\n",
       " 'documentcollectionid=ENG',\n",
       " 'documentcollectionid=JUDGMENTS',\n",
       " 'languageisocode',\n",
       " 'originatingbody_type'}"
      ]
     },
     "execution_count": 26,
     "metadata": {},
     "output_type": "execute_result"
    }
   ],
   "source": [
    "# Are these columns common in both the sets?\n",
    "set(cols_with_one_val_test).intersection(cols_with_one_val_train)"
   ]
  },
  {
   "cell_type": "code",
   "execution_count": 27,
   "metadata": {},
   "outputs": [],
   "source": [
    "# drop the columns with only one unique values in both the datasets\n",
    "cols_with_one_val = list(set(cols_with_one_val_test).intersection(cols_with_one_val_train))\n",
    "train_df.drop(cols_with_one_val, axis=1, inplace=True)\n",
    "test_df.drop(cols_with_one_val, axis=1, inplace=True)"
   ]
  },
  {
   "cell_type": "code",
   "execution_count": 28,
   "metadata": {},
   "outputs": [
    {
     "name": "stdout",
     "output_type": "stream",
     "text": [
      "train set :  [0]\n",
      "test set :  [0 1]\n",
      "-------------------------------\n",
      "train set :  [0]\n",
      "test set :  [0 1]\n",
      "-------------------------------\n",
      "train set :  [0]\n",
      "test set :  [0 1]\n",
      "-------------------------------\n",
      "train set :  [0]\n",
      "test set :  [0 1]\n",
      "-------------------------------\n",
      "train set :  [0]\n",
      "test set :  [0 1]\n",
      "-------------------------------\n",
      "train set :  [0]\n",
      "test set :  [0 1]\n",
      "-------------------------------\n",
      "train set :  [0]\n",
      "test set :  [0 1]\n",
      "-------------------------------\n",
      "train set :  [0]\n",
      "test set :  [0 1]\n",
      "-------------------------------\n",
      "train set :  [0]\n",
      "test set :  [0 1]\n",
      "-------------------------------\n",
      "train set :  [0]\n",
      "test set :  [0 1]\n",
      "-------------------------------\n",
      "train set :  [0]\n",
      "test set :  [0 1]\n",
      "-------------------------------\n",
      "train set :  [0]\n",
      "test set :  [0 1]\n",
      "-------------------------------\n",
      "train set :  [0]\n",
      "test set :  [0 1]\n",
      "-------------------------------\n",
      "train set :  [0]\n",
      "test set :  [0 1]\n",
      "-------------------------------\n",
      "train set :  [0]\n",
      "test set :  [0 1]\n",
      "-------------------------------\n",
      "train set :  [0]\n",
      "test set :  [0 1]\n",
      "-------------------------------\n",
      "train set :  [0]\n",
      "test set :  [0 1]\n",
      "-------------------------------\n"
     ]
    }
   ],
   "source": [
    "# columns that have one unique val in training set but not in test set -> needs special attention\n",
    "one_val_train = ['applicability=51', 'applicability=7','applicability=28', 'applicability=29', 'applicability=31',\n",
    "                 'applicability=19', 'applicability=40', 'applicability=34','applicability=27', 'applicability=64', \n",
    "                 'applicability=4','applicability=77', 'paragraphs=7-2', 'paragraphs=28-3','paragraphs=27-1-b', \n",
    "                 'paragraphs=32-2', 'paragraphs=46-4']\n",
    "\n",
    "for col in one_val_train:\n",
    "    print(\"train set : \", train_df[col].unique())\n",
    "    print(\"test set : \", test_df[col].unique())\n",
    "    print(\"-------------------------------\")"
   ]
  },
  {
   "cell_type": "code",
   "execution_count": 47,
   "metadata": {},
   "outputs": [
    {
     "name": "stdout",
     "output_type": "stream",
     "text": [
      "Test set\n",
      "*********************\n",
      "col : applicability=51\n",
      "0    4759\n",
      "1       1\n",
      "Name: applicability=51, dtype: int64\n",
      "---------------------\n",
      "*********************\n",
      "col : applicability=7\n",
      "0    4758\n",
      "1       2\n",
      "Name: applicability=7, dtype: int64\n",
      "---------------------\n",
      "*********************\n",
      "col : applicability=28\n",
      "0    4759\n",
      "1       1\n",
      "Name: applicability=28, dtype: int64\n",
      "---------------------\n",
      "*********************\n",
      "col : applicability=29\n",
      "0    4759\n",
      "1       1\n",
      "Name: applicability=29, dtype: int64\n",
      "---------------------\n",
      "*********************\n",
      "col : applicability=31\n",
      "0    4759\n",
      "1       1\n",
      "Name: applicability=31, dtype: int64\n",
      "---------------------\n",
      "*********************\n",
      "col : applicability=19\n",
      "0    4759\n",
      "1       1\n",
      "Name: applicability=19, dtype: int64\n",
      "---------------------\n",
      "*********************\n",
      "col : applicability=40\n",
      "0    4759\n",
      "1       1\n",
      "Name: applicability=40, dtype: int64\n",
      "---------------------\n",
      "*********************\n",
      "col : applicability=34\n",
      "0    4759\n",
      "1       1\n",
      "Name: applicability=34, dtype: int64\n",
      "---------------------\n",
      "*********************\n",
      "col : applicability=27\n",
      "0    4759\n",
      "1       1\n",
      "Name: applicability=27, dtype: int64\n",
      "---------------------\n",
      "*********************\n",
      "col : applicability=64\n",
      "0    4759\n",
      "1       1\n",
      "Name: applicability=64, dtype: int64\n",
      "---------------------\n",
      "*********************\n",
      "col : applicability=4\n",
      "0    4759\n",
      "1       1\n",
      "Name: applicability=4, dtype: int64\n",
      "---------------------\n",
      "*********************\n",
      "col : applicability=77\n",
      "0    4759\n",
      "1       1\n",
      "Name: applicability=77, dtype: int64\n",
      "---------------------\n",
      "*********************\n",
      "col : paragraphs=7-2\n",
      "0    4758\n",
      "1       2\n",
      "Name: paragraphs=7-2, dtype: int64\n",
      "---------------------\n",
      "*********************\n",
      "col : paragraphs=28-3\n",
      "0    4759\n",
      "1       1\n",
      "Name: paragraphs=28-3, dtype: int64\n",
      "---------------------\n",
      "*********************\n",
      "col : paragraphs=27-1-b\n",
      "0    4759\n",
      "1       1\n",
      "Name: paragraphs=27-1-b, dtype: int64\n",
      "---------------------\n",
      "*********************\n",
      "col : paragraphs=32-2\n",
      "0    4759\n",
      "1       1\n",
      "Name: paragraphs=32-2, dtype: int64\n",
      "---------------------\n",
      "*********************\n",
      "col : paragraphs=46-4\n",
      "0    4759\n",
      "1       1\n",
      "Name: paragraphs=46-4, dtype: int64\n",
      "---------------------\n"
     ]
    }
   ],
   "source": [
    "# since these columns are constant during training, it is better to remove them from both the datasets. But before\n",
    "# that let's apply value_counts on these columns in the test set\n",
    "\n",
    "print(\"Test set\")\n",
    "for col in one_val_train:\n",
    "    print(\"*********************\")\n",
    "    print(\"col : {}\".format(col))\n",
    "    print(test_df[col].value_counts())\n",
    "    print(\"---------------------\")"
   ]
  },
  {
   "cell_type": "code",
   "execution_count": 29,
   "metadata": {},
   "outputs": [],
   "source": [
    "# Therefore, it looks like these columns are constant 99% of the time even in the test set and we can safely \n",
    "# remove them.\n",
    "train_df.drop(one_val_train,axis=1,inplace=True)\n",
    "test_df.drop(one_val_train,axis=1,inplace=True)"
   ]
  },
  {
   "cell_type": "code",
   "execution_count": 30,
   "metadata": {},
   "outputs": [
    {
     "name": "stdout",
     "output_type": "stream",
     "text": [
      "column name :  article=33\n",
      "train set :  [0 1]\n",
      "test set :  [0]\n",
      "-------------------------------\n",
      "column name :  article=52\n",
      "train set :  [0 1]\n",
      "test set :  [0]\n",
      "-------------------------------\n",
      "column name :  article=P13\n",
      "train set :  [0 1]\n",
      "test set :  [0]\n",
      "-------------------------------\n",
      "column name :  applicability=22\n",
      "train set :  [0 1]\n",
      "test set :  [0]\n",
      "-------------------------------\n",
      "column name :  applicability=15\n",
      "train set :  [0 1]\n",
      "test set :  [0]\n",
      "-------------------------------\n",
      "column name :  applicability=50\n",
      "train set :  [0 1]\n",
      "test set :  [0]\n",
      "-------------------------------\n",
      "column name :  applicability=6\n",
      "train set :  [0 1]\n",
      "test set :  [0]\n",
      "-------------------------------\n",
      "column name :  applicability=81\n",
      "train set :  [0 1]\n",
      "test set :  [0]\n",
      "-------------------------------\n",
      "column name :  applicability=66\n",
      "train set :  [0 1]\n",
      "test set :  [0]\n",
      "-------------------------------\n",
      "column name :  applicability=49\n",
      "train set :  [0 1]\n",
      "test set :  [0]\n",
      "-------------------------------\n",
      "column name :  applicability=63\n",
      "train set :  [0 1]\n",
      "test set :  [0]\n",
      "-------------------------------\n",
      "column name :  applicability=68\n",
      "train set :  [0 1]\n",
      "test set :  [0]\n",
      "-------------------------------\n",
      "column name :  applicability=46\n",
      "train set :  [0 1]\n",
      "test set :  [0]\n",
      "-------------------------------\n",
      "column name :  applicability=35\n",
      "train set :  [0 1]\n",
      "test set :  [0]\n",
      "-------------------------------\n",
      "column name :  applicability=54\n",
      "train set :  [0 1]\n",
      "test set :  [0]\n",
      "-------------------------------\n",
      "column name :  applicability=16\n",
      "train set :  [0 1]\n",
      "test set :  [0]\n",
      "-------------------------------\n",
      "column name :  applicability=57\n",
      "train set :  [0 1]\n",
      "test set :  [0]\n",
      "-------------------------------\n",
      "column name :  applicability=2\n",
      "train set :  [0 1]\n",
      "test set :  [0]\n",
      "-------------------------------\n",
      "column name :  applicability=67\n",
      "train set :  [0 1]\n",
      "test set :  [0]\n",
      "-------------------------------\n",
      "column name :  applicability=71\n",
      "train set :  [0 1]\n",
      "test set :  [0]\n",
      "-------------------------------\n",
      "column name :  applicability=59\n",
      "train set :  [0 1]\n",
      "test set :  [0]\n",
      "-------------------------------\n",
      "column name :  paragraphs=27-2\n",
      "train set :  [0 1]\n",
      "test set :  [0]\n",
      "-------------------------------\n",
      "column name :  paragraphs=35-2\n",
      "train set :  [0 1]\n",
      "test set :  [0]\n",
      "-------------------------------\n",
      "column name :  paragraphs=P1-4\n",
      "train set :  [0 1]\n",
      "test set :  [0]\n",
      "-------------------------------\n",
      "column name :  paragraphs=56-1\n",
      "train set :  [0 1]\n",
      "test set :  [0]\n",
      "-------------------------------\n",
      "column name :  paragraphs=P7-1-2\n",
      "train set :  [0 1]\n",
      "test set :  [0]\n",
      "-------------------------------\n",
      "column name :  paragraphs=15-3\n",
      "train set :  [0 1]\n",
      "test set :  [0]\n",
      "-------------------------------\n",
      "column name :  paragraphs=33\n",
      "train set :  [0 1]\n",
      "test set :  [0]\n",
      "-------------------------------\n",
      "column name :  paragraphs=28-1-a\n",
      "train set :  [0 1]\n",
      "test set :  [0]\n",
      "-------------------------------\n",
      "column name :  paragraphs=4-3\n",
      "train set :  [0 1]\n",
      "test set :  [0]\n",
      "-------------------------------\n",
      "column name :  paragraphs=52\n",
      "train set :  [0 1]\n",
      "test set :  [0]\n",
      "-------------------------------\n",
      "column name :  paragraphs=P13-1\n",
      "train set :  [0 1]\n",
      "test set :  [0]\n",
      "-------------------------------\n",
      "column name :  paragraphs=P7-4-1\n",
      "train set :  [0 1]\n",
      "test set :  [0]\n",
      "-------------------------------\n",
      "column name :  paragraphs=P4-3\n",
      "train set :  [0 1]\n",
      "test set :  [0]\n",
      "-------------------------------\n",
      "column name :  paragraphs=29-1\n",
      "train set :  [0 1]\n",
      "test set :  [0]\n",
      "-------------------------------\n",
      "column name :  paragraphs=28-1\n",
      "train set :  [0 1]\n",
      "test set :  [0]\n",
      "-------------------------------\n",
      "column name :  paragraphs=P6-2\n",
      "train set :  [0 1]\n",
      "test set :  [0]\n",
      "-------------------------------\n",
      "column name :  ccl_article=17\n",
      "train set :  [ 0 -1]\n",
      "test set :  [0]\n",
      "-------------------------------\n",
      "column name :  ccl_article=46\n",
      "train set :  [0 1]\n",
      "test set :  [0]\n",
      "-------------------------------\n",
      "column name :  ccl_article=p12\n",
      "train set :  [0 1]\n",
      "test set :  [0]\n",
      "-------------------------------\n"
     ]
    }
   ],
   "source": [
    "# columns that have one unique val in test set but not in training set -> we can keep these columns\n",
    "one_val_test = ['article=33', 'article=52', 'article=P13', 'applicability=22', 'applicability=15',\n",
    "                'applicability=50', 'applicability=6', 'applicability=81', 'applicability=66', 'applicability=49',\n",
    "                'applicability=63', 'applicability=68', 'applicability=46', 'applicability=35','applicability=54', \n",
    "                'applicability=16', 'applicability=57', 'applicability=2', 'applicability=67', 'applicability=71',\n",
    "                'applicability=59', 'paragraphs=27-2', 'paragraphs=35-2', 'paragraphs=P1-4', 'paragraphs=56-1', \n",
    "                'paragraphs=P7-1-2', 'paragraphs=15-3', 'paragraphs=33', 'paragraphs=28-1-a', 'paragraphs=4-3',\n",
    "                'paragraphs=52', 'paragraphs=P13-1', 'paragraphs=P7-4-1', 'paragraphs=P4-3', 'paragraphs=29-1',\n",
    "                'paragraphs=28-1', 'paragraphs=P6-2', 'ccl_article=17', 'ccl_article=46', 'ccl_article=p12']\n",
    "\n",
    "for col in one_val_test:\n",
    "    print(\"column name : \", col)\n",
    "    print(\"train set : \", train_df[col].unique())\n",
    "    print(\"test set : \", test_df[col].unique())\n",
    "    print(\"-------------------------------\")"
   ]
  },
  {
   "cell_type": "code",
   "execution_count": 31,
   "metadata": {},
   "outputs": [
    {
     "data": {
      "text/plain": [
       " 0    0.999887\n",
       "-1    0.000113\n",
       "Name: ccl_article=17, dtype: float64"
      ]
     },
     "execution_count": 31,
     "metadata": {},
     "output_type": "execute_result"
    }
   ],
   "source": [
    "# column 'ccl_article=17' has two binary values as -1 and 0. Let's investigate it.\n",
    "train_df['ccl_article=17'].value_counts(normalize=True)"
   ]
  },
  {
   "cell_type": "code",
   "execution_count": 32,
   "metadata": {},
   "outputs": [
    {
     "data": {
      "text/plain": [
       "0    1.0\n",
       "Name: ccl_article=17, dtype: float64"
      ]
     },
     "execution_count": 32,
     "metadata": {},
     "output_type": "execute_result"
    }
   ],
   "source": [
    "test_df['ccl_article=17'].value_counts(normalize=True)"
   ]
  },
  {
   "cell_type": "code",
   "execution_count": 33,
   "metadata": {},
   "outputs": [],
   "source": [
    "# must be a mistake in entering value in the column 'ccl_article=17'. Let's drop this column as well\n",
    "train_df.drop('ccl_article=17',axis=1,inplace=True)\n",
    "test_df.drop('ccl_article=17',axis=1,inplace=True)"
   ]
  },
  {
   "cell_type": "code",
   "execution_count": 34,
   "metadata": {},
   "outputs": [
    {
     "name": "stdout",
     "output_type": "stream",
     "text": [
      "Train set\n",
      "*********************\n",
      "col : article=33\n",
      "0    8877\n",
      "1       1\n",
      "Name: article=33, dtype: int64\n",
      "---------------------\n",
      "*********************\n",
      "col : article=52\n",
      "0    8876\n",
      "1       2\n",
      "Name: article=52, dtype: int64\n",
      "---------------------\n",
      "*********************\n",
      "col : article=P13\n",
      "0    8877\n",
      "1       1\n",
      "Name: article=P13, dtype: int64\n",
      "---------------------\n",
      "*********************\n",
      "col : applicability=22\n",
      "0    8877\n",
      "1       1\n",
      "Name: applicability=22, dtype: int64\n",
      "---------------------\n",
      "*********************\n",
      "col : applicability=15\n",
      "0    8877\n",
      "1       1\n",
      "Name: applicability=15, dtype: int64\n",
      "---------------------\n",
      "*********************\n",
      "col : applicability=50\n",
      "0    8876\n",
      "1       2\n",
      "Name: applicability=50, dtype: int64\n",
      "---------------------\n",
      "*********************\n",
      "col : applicability=6\n",
      "0    8876\n",
      "1       2\n",
      "Name: applicability=6, dtype: int64\n",
      "---------------------\n",
      "*********************\n",
      "col : applicability=81\n",
      "0    8877\n",
      "1       1\n",
      "Name: applicability=81, dtype: int64\n",
      "---------------------\n",
      "*********************\n",
      "col : applicability=66\n",
      "0    8877\n",
      "1       1\n",
      "Name: applicability=66, dtype: int64\n",
      "---------------------\n",
      "*********************\n",
      "col : applicability=49\n",
      "0    8877\n",
      "1       1\n",
      "Name: applicability=49, dtype: int64\n",
      "---------------------\n",
      "*********************\n",
      "col : applicability=63\n",
      "0    8875\n",
      "1       3\n",
      "Name: applicability=63, dtype: int64\n",
      "---------------------\n",
      "*********************\n",
      "col : applicability=68\n",
      "0    8877\n",
      "1       1\n",
      "Name: applicability=68, dtype: int64\n",
      "---------------------\n",
      "*********************\n",
      "col : applicability=46\n",
      "0    8876\n",
      "1       2\n",
      "Name: applicability=46, dtype: int64\n",
      "---------------------\n",
      "*********************\n",
      "col : applicability=35\n",
      "0    8877\n",
      "1       1\n",
      "Name: applicability=35, dtype: int64\n",
      "---------------------\n",
      "*********************\n",
      "col : applicability=54\n",
      "0    8876\n",
      "1       2\n",
      "Name: applicability=54, dtype: int64\n",
      "---------------------\n",
      "*********************\n",
      "col : applicability=16\n",
      "0    8877\n",
      "1       1\n",
      "Name: applicability=16, dtype: int64\n",
      "---------------------\n",
      "*********************\n",
      "col : applicability=57\n",
      "0    8877\n",
      "1       1\n",
      "Name: applicability=57, dtype: int64\n",
      "---------------------\n",
      "*********************\n",
      "col : applicability=2\n",
      "0    8877\n",
      "1       1\n",
      "Name: applicability=2, dtype: int64\n",
      "---------------------\n",
      "*********************\n",
      "col : applicability=67\n",
      "0    8877\n",
      "1       1\n",
      "Name: applicability=67, dtype: int64\n",
      "---------------------\n",
      "*********************\n",
      "col : applicability=71\n",
      "0    8877\n",
      "1       1\n",
      "Name: applicability=71, dtype: int64\n",
      "---------------------\n",
      "*********************\n",
      "col : applicability=59\n",
      "0    8877\n",
      "1       1\n",
      "Name: applicability=59, dtype: int64\n",
      "---------------------\n",
      "*********************\n",
      "col : paragraphs=27-2\n",
      "0    8875\n",
      "1       3\n",
      "Name: paragraphs=27-2, dtype: int64\n",
      "---------------------\n",
      "*********************\n",
      "col : paragraphs=35-2\n",
      "0    8868\n",
      "1      10\n",
      "Name: paragraphs=35-2, dtype: int64\n",
      "---------------------\n",
      "*********************\n",
      "col : paragraphs=P1-4\n",
      "0    8876\n",
      "1       2\n",
      "Name: paragraphs=P1-4, dtype: int64\n",
      "---------------------\n",
      "*********************\n",
      "col : paragraphs=56-1\n",
      "0    8877\n",
      "1       1\n",
      "Name: paragraphs=56-1, dtype: int64\n",
      "---------------------\n",
      "*********************\n",
      "col : paragraphs=P7-1-2\n",
      "0    8875\n",
      "1       3\n",
      "Name: paragraphs=P7-1-2, dtype: int64\n",
      "---------------------\n",
      "*********************\n",
      "col : paragraphs=15-3\n",
      "0    8875\n",
      "1       3\n",
      "Name: paragraphs=15-3, dtype: int64\n",
      "---------------------\n",
      "*********************\n",
      "col : paragraphs=33\n",
      "0    8877\n",
      "1       1\n",
      "Name: paragraphs=33, dtype: int64\n",
      "---------------------\n",
      "*********************\n",
      "col : paragraphs=28-1-a\n",
      "0    8877\n",
      "1       1\n",
      "Name: paragraphs=28-1-a, dtype: int64\n",
      "---------------------\n",
      "*********************\n",
      "col : paragraphs=4-3\n",
      "0    8877\n",
      "1       1\n",
      "Name: paragraphs=4-3, dtype: int64\n",
      "---------------------\n",
      "*********************\n",
      "col : paragraphs=52\n",
      "0    8876\n",
      "1       2\n",
      "Name: paragraphs=52, dtype: int64\n",
      "---------------------\n",
      "*********************\n",
      "col : paragraphs=P13-1\n",
      "0    8877\n",
      "1       1\n",
      "Name: paragraphs=P13-1, dtype: int64\n",
      "---------------------\n",
      "*********************\n",
      "col : paragraphs=P7-4-1\n",
      "0    8877\n",
      "1       1\n",
      "Name: paragraphs=P7-4-1, dtype: int64\n",
      "---------------------\n",
      "*********************\n",
      "col : paragraphs=P4-3\n",
      "0    8876\n",
      "1       2\n",
      "Name: paragraphs=P4-3, dtype: int64\n",
      "---------------------\n",
      "*********************\n",
      "col : paragraphs=29-1\n",
      "0    8877\n",
      "1       1\n",
      "Name: paragraphs=29-1, dtype: int64\n",
      "---------------------\n",
      "*********************\n",
      "col : paragraphs=28-1\n",
      "0    8877\n",
      "1       1\n",
      "Name: paragraphs=28-1, dtype: int64\n",
      "---------------------\n",
      "*********************\n",
      "col : paragraphs=P6-2\n",
      "0    8877\n",
      "1       1\n",
      "Name: paragraphs=P6-2, dtype: int64\n",
      "---------------------\n",
      "*********************\n",
      "col : ccl_article=46\n",
      "0    8877\n",
      "1       1\n",
      "Name: ccl_article=46, dtype: int64\n",
      "---------------------\n",
      "*********************\n",
      "col : ccl_article=p12\n",
      "0    8877\n",
      "1       1\n",
      "Name: ccl_article=p12, dtype: int64\n",
      "---------------------\n"
     ]
    }
   ],
   "source": [
    "# Now let's look at distribution of categories in these columns in the training set\n",
    "print(\"Train set\")\n",
    "one_val_test.remove('ccl_article=17')\n",
    "for col in one_val_test:\n",
    "    print(\"*********************\")\n",
    "    print(\"col : {}\".format(col))\n",
    "    print(train_df[col].value_counts())\n",
    "    print(\"---------------------\")"
   ]
  },
  {
   "cell_type": "code",
   "execution_count": 35,
   "metadata": {},
   "outputs": [],
   "source": [
    "# So, as we can see almost all the columns except 'paragraphs=35-2' has not more than 3 entries associated with \n",
    "# category=1. Even if the col 'paragraphs=35-2' has a very tiny fraction of category=1. So, we will drop these \n",
    "# columns from both the training and test sets as of now.\n",
    "\n",
    "train_df.drop(one_val_test,axis=1,inplace=True)\n",
    "test_df.drop(one_val_test,axis=1,inplace=True)"
   ]
  },
  {
   "cell_type": "code",
   "execution_count": 36,
   "metadata": {},
   "outputs": [
    {
     "name": "stdout",
     "output_type": "stream",
     "text": [
      "The shape of the training set after dropping columns with constant values : (8878, 231)\n",
      "The shape of the test set after dropping columns with constant values : (4760, 230)\n"
     ]
    }
   ],
   "source": [
    "print(\"The shape of the training set after dropping columns with constant values : {}\".format(train_df.shape))\n",
    "print(\"The shape of the test set after dropping columns with constant values : {}\".format(test_df.shape))"
   ]
  },
  {
   "cell_type": "code",
   "execution_count": 37,
   "metadata": {},
   "outputs": [
    {
     "name": "stdout",
     "output_type": "stream",
     "text": [
      "False    8878\n",
      "dtype: int64\n",
      "--------------------------\n",
      "False    4760\n",
      "dtype: int64\n"
     ]
    }
   ],
   "source": [
    "# check whether there is any duplicate row in both the datasets\n",
    "print(train_df.duplicated().value_counts())\n",
    "print(\"--------------------------\")\n",
    "print(test_df.duplicated().value_counts())"
   ]
  },
  {
   "cell_type": "code",
   "execution_count": 38,
   "metadata": {},
   "outputs": [],
   "source": [
    "# let's now look at the cols with 'object' type\n",
    "obj_cols_train = train_df.select_dtypes(include='object')\n",
    "obj_cols_test = test_df.select_dtypes(include='object')"
   ]
  },
  {
   "cell_type": "code",
   "execution_count": 39,
   "metadata": {},
   "outputs": [
    {
     "name": "stdout",
     "output_type": "stream",
     "text": [
      "Train set\n",
      "['appno', 'country.alpha2', 'country.name', 'docname', 'doctypebranch', 'ecli', 'itemid', 'judgementdate', 'kpdate', 'originatingbody_name', 'parties.0', 'parties.1', 'respondent.0']\n",
      "-------------------------------------------------------------------------------------------------------------\n",
      "Test set\n",
      "['appno', 'country.alpha2', 'country.name', 'docname', 'doctypebranch', 'ecli', 'itemid', 'judgementdate', 'kpdate', 'originatingbody_name', 'parties.0', 'parties.1', 'respondent.0']\n"
     ]
    }
   ],
   "source": [
    "# are columns with object type are same in both the datsets\n",
    "print(\"Train set\")\n",
    "print(list(obj_cols_train.columns))\n",
    "print(\"-------------------------------------------------------------------------------------------------------------\")\n",
    "print(\"Test set\")\n",
    "print(list(obj_cols_test.columns))"
   ]
  },
  {
   "cell_type": "code",
   "execution_count": 40,
   "metadata": {},
   "outputs": [],
   "source": [
    "# let's check these columns one by one"
   ]
  },
  {
   "cell_type": "markdown",
   "metadata": {},
   "source": [
    "**Feature 'appno'**"
   ]
  },
  {
   "cell_type": "code",
   "execution_count": 41,
   "metadata": {},
   "outputs": [
    {
     "name": "stdout",
     "output_type": "stream",
     "text": [
      "col : appno\n",
      "Total no. of unique values in the training set : 8799\n",
      "Total no. of unique values in the test set : 4760\n"
     ]
    }
   ],
   "source": [
    "print(\"col : appno\")\n",
    "print(\"Total no. of unique values in the training set : {}\".format(train_df['appno'].nunique()))\n",
    "print(\"Total no. of unique values in the test set : {}\".format(test_df['appno'].nunique()))"
   ]
  },
  {
   "cell_type": "code",
   "execution_count": 42,
   "metadata": {},
   "outputs": [],
   "source": [
    "# this feature is more likely to be same as that of fetaure like id with different value for each instance and is\n",
    "# not significant to train on. Let's drop it.\n",
    "train_df.drop('appno',axis=1,inplace=True)\n",
    "test_df.drop('appno',axis=1,inplace=True)"
   ]
  },
  {
   "cell_type": "markdown",
   "metadata": {},
   "source": [
    "**Feature 'country.alpha2'**"
   ]
  },
  {
   "cell_type": "code",
   "execution_count": 43,
   "metadata": {},
   "outputs": [
    {
     "name": "stdout",
     "output_type": "stream",
     "text": [
      "col : country.alpha2\n",
      "Total no. of unique values in the training set : 46\n",
      "Total no. of unique values in the test set : 46 \n",
      "\n",
      "Train set :  ['ru' 'tr' 'si' 'ch' 'gr' 'pl' 'gb' 'hu' 'es' 'ua' 'me' 'cz' 'lt' 'az'\n",
      " 'md' 'mk' 'ro' 'rs' 'de' 'bg' 'al' 'at' 'hr' 'sk' 'it' 'fi' 'fr' 'se'\n",
      " 'no' 'is' 'am' 'mt' 'be' 'cy' 'ge' 'pt' 'dk' 'lv' 'ee' 'ba' 'nl' 'ie'\n",
      " 'li' 'sm' 'lu' 'ad'] \n",
      "\n",
      "Test set :  ['mk' 'ua' 'ie' 'ru' 'bg' 'pl' 'gr' 'hu' 'de' 'at' 'hr' 'lt' 'md' 'si'\n",
      " 'fi' 'tr' 'ro' 'cz' 'dk' 'gb' 'al' 'se' 'nl' 'rs' 'sk' 'is' 'lv' 'cy'\n",
      " 'ge' 'it' 'ch' 'mt' 'es' 'pt' 'ba' 'ee' 'az' 'am' 'sm' 'no' 'be' 'me'\n",
      " 'fr' 'lu' 'ad' 'li'] \n",
      "\n"
     ]
    }
   ],
   "source": [
    "print(\"col : country.alpha2\")\n",
    "print(\"Total no. of unique values in the training set : {}\".format(train_df['country.alpha2'].nunique()))\n",
    "print(\"Total no. of unique values in the test set : {} \\n\".format(test_df['country.alpha2'].nunique()))\n",
    "print(\"Train set : \",train_df['country.alpha2'].unique(),\"\\n\")\n",
    "print(\"Test set : \",test_df['country.alpha2'].unique(),\"\\n\")"
   ]
  },
  {
   "cell_type": "code",
   "execution_count": 44,
   "metadata": {},
   "outputs": [
    {
     "name": "stdout",
     "output_type": "stream",
     "text": [
      "set()\n",
      "set()\n"
     ]
    }
   ],
   "source": [
    "# do categories present in both of these files same?\n",
    "print(set(train_df['country.alpha2'].unique()).difference(test_df['country.alpha2'].unique()))\n",
    "print(set(test_df['country.alpha2'].unique()).difference(train_df['country.alpha2'].unique()))"
   ]
  },
  {
   "cell_type": "code",
   "execution_count": 45,
   "metadata": {},
   "outputs": [
    {
     "name": "stdout",
     "output_type": "stream",
     "text": [
      "Train Set:\n",
      "ru    0.185515\n",
      "ua    0.105091\n",
      "tr    0.097770\n",
      "pl    0.069498\n",
      "hu    0.041000\n",
      "ro    0.037734\n",
      "bg    0.034242\n",
      "gb    0.033904\n",
      "hr    0.028723\n",
      "at    0.026245\n",
      "sk    0.025569\n",
      "it    0.025118\n",
      "md    0.024668\n",
      "si    0.023541\n",
      "de    0.022077\n",
      "fr    0.019374\n",
      "az    0.015093\n",
      "lt    0.014643\n",
      "rs    0.014305\n",
      "fi    0.013066\n",
      "mk    0.012390\n",
      "gr    0.010926\n",
      "nl    0.010813\n",
      "am    0.009687\n",
      "ch    0.008223\n",
      "mt    0.007885\n",
      "se    0.007547\n",
      "lv    0.007434\n",
      "ge    0.006871\n",
      "cy    0.006195\n",
      "pt    0.005745\n",
      "cz    0.005745\n",
      "ba    0.005632\n",
      "be    0.005407\n",
      "es    0.005294\n",
      "ee    0.004956\n",
      "al    0.004731\n",
      "me    0.004393\n",
      "no    0.004055\n",
      "dk    0.002591\n",
      "ie    0.002365\n",
      "is    0.001577\n",
      "lu    0.000788\n",
      "sm    0.000788\n",
      "li    0.000676\n",
      "ad    0.000113\n",
      "Name: country.alpha2, dtype: float64\n",
      "\n",
      "\n",
      "Test Set:\n",
      "ru    0.205462\n",
      "tr    0.095168\n",
      "ua    0.090966\n",
      "pl    0.074370\n",
      "hu    0.041597\n",
      "ro    0.039286\n",
      "gb    0.034034\n",
      "bg    0.033193\n",
      "hr    0.028151\n",
      "md    0.027941\n",
      "sk    0.025210\n",
      "at    0.023950\n",
      "si    0.023109\n",
      "it    0.020588\n",
      "de    0.019118\n",
      "rs    0.017227\n",
      "lt    0.015126\n",
      "az    0.013655\n",
      "gr    0.013025\n",
      "fi    0.012605\n",
      "fr    0.012185\n",
      "mk    0.011765\n",
      "lv    0.011345\n",
      "se    0.010084\n",
      "am    0.009454\n",
      "nl    0.008613\n",
      "ba    0.008193\n",
      "ge    0.007983\n",
      "ch    0.007143\n",
      "al    0.006513\n",
      "cz    0.006092\n",
      "mt    0.005882\n",
      "be    0.005042\n",
      "me    0.004622\n",
      "cy    0.004202\n",
      "es    0.003992\n",
      "pt    0.003992\n",
      "no    0.003782\n",
      "ee    0.003571\n",
      "dk    0.003571\n",
      "is    0.003151\n",
      "ie    0.002521\n",
      "sm    0.001261\n",
      "li    0.000630\n",
      "lu    0.000420\n",
      "ad    0.000210\n",
      "Name: country.alpha2, dtype: float64\n"
     ]
    }
   ],
   "source": [
    "# what is the distribution of different categories?\n",
    "print(\"Train Set:\")\n",
    "print(train_df['country.alpha2'].value_counts(normalize=True))\n",
    "print(\"\\n\")\n",
    "print(\"Test Set:\")\n",
    "print(test_df['country.alpha2'].value_counts(normalize=True))"
   ]
  },
  {
   "cell_type": "markdown",
   "metadata": {},
   "source": [
    "**Feature 'country.name'**"
   ]
  },
  {
   "cell_type": "code",
   "execution_count": 46,
   "metadata": {},
   "outputs": [
    {
     "name": "stdout",
     "output_type": "stream",
     "text": [
      "col : country.name\n",
      "Total no. of unique values in the training set : 46\n",
      "Total no. of unique values in the test set : 46 \n",
      "\n",
      "Train set :  ['Russian Federation' 'Turkey' 'Slovenia' 'Switzerland' 'Greece' 'Poland'\n",
      " 'United Kingdom' 'Hungary' 'Spain' 'Ukraine' 'Montenegro' 'Czechia'\n",
      " 'Lithuania' 'Azerbaijan' 'Moldova, Republic of' 'North Macedonia'\n",
      " 'Romania' 'Serbia' 'Germany' 'Bulgaria' 'Albania' 'Austria' 'Croatia'\n",
      " 'Slovakia' 'Italy' 'Finland' 'France' 'Sweden' 'Norway' 'Iceland'\n",
      " 'Armenia' 'Malta' 'Belgium' 'Cyprus' 'Georgia' 'Portugal' 'Denmark'\n",
      " 'Latvia' 'Estonia' 'Bosnia and Herzegovina' 'Netherlands' 'Ireland'\n",
      " 'Liechtenstein' 'San Marino' 'Luxembourg' 'Andorra'] \n",
      "\n",
      "Test set :  ['North Macedonia' 'Ukraine' 'Ireland' 'Russian Federation' 'Bulgaria'\n",
      " 'Poland' 'Greece' 'Hungary' 'Germany' 'Austria' 'Croatia' 'Lithuania'\n",
      " 'Moldova, Republic of' 'Slovenia' 'Finland' 'Turkey' 'Romania' 'Czechia'\n",
      " 'Denmark' 'United Kingdom' 'Albania' 'Sweden' 'Netherlands' 'Serbia'\n",
      " 'Slovakia' 'Iceland' 'Latvia' 'Cyprus' 'Georgia' 'Italy' 'Switzerland'\n",
      " 'Malta' 'Spain' 'Portugal' 'Bosnia and Herzegovina' 'Estonia'\n",
      " 'Azerbaijan' 'Armenia' 'San Marino' 'Norway' 'Belgium' 'Montenegro'\n",
      " 'France' 'Luxembourg' 'Andorra' 'Liechtenstein'] \n",
      "\n"
     ]
    }
   ],
   "source": [
    "print(\"col : country.name\")\n",
    "print(\"Total no. of unique values in the training set : {}\".format(train_df['country.name'].nunique()))\n",
    "print(\"Total no. of unique values in the test set : {} \\n\".format(test_df['country.name'].nunique()))\n",
    "print(\"Train set : \",train_df['country.name'].unique(),\"\\n\")\n",
    "print(\"Test set : \",test_df['country.name'].unique(),\"\\n\")"
   ]
  },
  {
   "cell_type": "code",
   "execution_count": 47,
   "metadata": {},
   "outputs": [
    {
     "name": "stdout",
     "output_type": "stream",
     "text": [
      "set()\n",
      "set()\n"
     ]
    }
   ],
   "source": [
    "# do categories present in both of these files same?\n",
    "print(set(train_df['country.name'].unique()).difference(test_df['country.name'].unique()))\n",
    "print(set(test_df['country.name'].unique()).difference(train_df['country.name'].unique()))"
   ]
  },
  {
   "cell_type": "code",
   "execution_count": 48,
   "metadata": {},
   "outputs": [],
   "source": [
    "# Actually, country.alpha2 and country.name are the same feature. We can drop one of them as of now. Let's drop \n",
    "# country.name.\n",
    "train_df.drop(\"country.name\",axis=1,inplace=True)\n",
    "test_df.drop(\"country.name\",axis=1,inplace=True)"
   ]
  },
  {
   "cell_type": "markdown",
   "metadata": {},
   "source": [
    "**Feature 'docname'**"
   ]
  },
  {
   "cell_type": "code",
   "execution_count": 49,
   "metadata": {},
   "outputs": [
    {
     "name": "stdout",
     "output_type": "stream",
     "text": [
      "col : docname\n",
      "Total no. of unique values in the training set : 8682\n",
      "Total no. of unique values in the test set : 4727 \n",
      "\n",
      "Train set :  ['CASE OF KOKOSHKINA v. RUSSIA' 'CASE OF ÖZCAN v. TURKEY'\n",
      " 'CASE OF DANIJEL PEČNIK v. SLOVENIA' ... 'CASE OF BABUSHKIN v. RUSSIA'\n",
      " 'CASE OF BRUALLA GÓMEZ DE LA TORRE v. SPAIN' 'CASE OF TUR v. POLAND'] \n",
      "\n",
      "Test set :  ['CASE OF CAMINSKI v. \"THE FORMER YUGOSLAV REPUBLIC OF MACEDONIA\"'\n",
      " 'CASE OF KUSHCH v. UKRAINE' 'CASE OF O. v. IRELAND' ...\n",
      " 'CASE OF PASCAL v. ROMANIA' 'CASE OF DAOUKOPOULOS v. GREECE'\n",
      " 'CASE OF VOGLREITER v. AUSTRIA'] \n",
      "\n"
     ]
    }
   ],
   "source": [
    "print(\"col : docname\")\n",
    "print(\"Total no. of unique values in the training set : {}\".format(train_df['docname'].nunique()))\n",
    "print(\"Total no. of unique values in the test set : {} \\n\".format(test_df['docname'].nunique()))\n",
    "print(\"Train set : \",train_df['docname'].unique(),\"\\n\")\n",
    "print(\"Test set : \",test_df['docname'].unique(),\"\\n\")"
   ]
  },
  {
   "cell_type": "code",
   "execution_count": 50,
   "metadata": {},
   "outputs": [
    {
     "data": {
      "text/plain": [
       "array(['CASE OF KOKOSHKINA v. RUSSIA', 'CASE OF ÖZCAN v. TURKEY',\n",
       "       'CASE OF DANIJEL PEČNIK v. SLOVENIA',\n",
       "       'CASE OF PALANCI v. SWITZERLAND',\n",
       "       'CASE OF AMANAT ILYASOVA AND OTHERS v. RUSSIA'], dtype=object)"
      ]
     },
     "execution_count": 50,
     "metadata": {},
     "output_type": "execute_result"
    }
   ],
   "source": [
    "train_df['docname'].unique()[:5]"
   ]
  },
  {
   "cell_type": "code",
   "execution_count": 51,
   "metadata": {},
   "outputs": [
    {
     "data": {
      "text/html": [
       "<div>\n",
       "<style scoped>\n",
       "    .dataframe tbody tr th:only-of-type {\n",
       "        vertical-align: middle;\n",
       "    }\n",
       "\n",
       "    .dataframe tbody tr th {\n",
       "        vertical-align: top;\n",
       "    }\n",
       "\n",
       "    .dataframe thead th {\n",
       "        text-align: right;\n",
       "    }\n",
       "</style>\n",
       "<table border=\"1\" class=\"dataframe\">\n",
       "  <thead>\n",
       "    <tr style=\"text-align: right;\">\n",
       "      <th></th>\n",
       "      <th>country.alpha2</th>\n",
       "      <th>docname</th>\n",
       "    </tr>\n",
       "  </thead>\n",
       "  <tbody>\n",
       "    <tr>\n",
       "      <th>0</th>\n",
       "      <td>ru</td>\n",
       "      <td>CASE OF KOKOSHKINA v. RUSSIA</td>\n",
       "    </tr>\n",
       "    <tr>\n",
       "      <th>1</th>\n",
       "      <td>tr</td>\n",
       "      <td>CASE OF ÖZCAN v. TURKEY</td>\n",
       "    </tr>\n",
       "    <tr>\n",
       "      <th>2</th>\n",
       "      <td>si</td>\n",
       "      <td>CASE OF DANIJEL PEČNIK v. SLOVENIA</td>\n",
       "    </tr>\n",
       "    <tr>\n",
       "      <th>3</th>\n",
       "      <td>ch</td>\n",
       "      <td>CASE OF PALANCI v. SWITZERLAND</td>\n",
       "    </tr>\n",
       "    <tr>\n",
       "      <th>4</th>\n",
       "      <td>ru</td>\n",
       "      <td>CASE OF AMANAT ILYASOVA AND OTHERS v. RUSSIA</td>\n",
       "    </tr>\n",
       "    <tr>\n",
       "      <th>...</th>\n",
       "      <td>...</td>\n",
       "      <td>...</td>\n",
       "    </tr>\n",
       "    <tr>\n",
       "      <th>8873</th>\n",
       "      <td>ua</td>\n",
       "      <td>CASE OF RASHITOV AND OTHERS v. UKRAINE</td>\n",
       "    </tr>\n",
       "    <tr>\n",
       "      <th>8874</th>\n",
       "      <td>ru</td>\n",
       "      <td>CASE OF URMANOV v. RUSSIA</td>\n",
       "    </tr>\n",
       "    <tr>\n",
       "      <th>8875</th>\n",
       "      <td>ru</td>\n",
       "      <td>CASE OF BABUSHKIN v. RUSSIA</td>\n",
       "    </tr>\n",
       "    <tr>\n",
       "      <th>8876</th>\n",
       "      <td>es</td>\n",
       "      <td>CASE OF BRUALLA GÓMEZ DE LA TORRE v. SPAIN</td>\n",
       "    </tr>\n",
       "    <tr>\n",
       "      <th>8877</th>\n",
       "      <td>pl</td>\n",
       "      <td>CASE OF TUR v. POLAND</td>\n",
       "    </tr>\n",
       "  </tbody>\n",
       "</table>\n",
       "<p>8878 rows × 2 columns</p>\n",
       "</div>"
      ],
      "text/plain": [
       "     country.alpha2                                       docname\n",
       "0                ru                  CASE OF KOKOSHKINA v. RUSSIA\n",
       "1                tr                       CASE OF ÖZCAN v. TURKEY\n",
       "2                si            CASE OF DANIJEL PEČNIK v. SLOVENIA\n",
       "3                ch                CASE OF PALANCI v. SWITZERLAND\n",
       "4                ru  CASE OF AMANAT ILYASOVA AND OTHERS v. RUSSIA\n",
       "...             ...                                           ...\n",
       "8873             ua        CASE OF RASHITOV AND OTHERS v. UKRAINE\n",
       "8874             ru                     CASE OF URMANOV v. RUSSIA\n",
       "8875             ru                   CASE OF BABUSHKIN v. RUSSIA\n",
       "8876             es    CASE OF BRUALLA GÓMEZ DE LA TORRE v. SPAIN\n",
       "8877             pl                         CASE OF TUR v. POLAND\n",
       "\n",
       "[8878 rows x 2 columns]"
      ]
     },
     "execution_count": 51,
     "metadata": {},
     "output_type": "execute_result"
    }
   ],
   "source": [
    "train_df[['country.alpha2', 'docname']]"
   ]
  },
  {
   "cell_type": "code",
   "execution_count": 52,
   "metadata": {},
   "outputs": [],
   "source": [
    "# this feature contains two pieces of information - person name and the country name against which he/she filed a \n",
    "# case. The country information is already present in the feature country.alpha2 and name of a person is more similar\n",
    "# to ids. So, we can drop this feature as well.\n",
    "\n",
    "train_df.drop('docname', axis=1,inplace=True)\n",
    "test_df.drop('docname', axis=1,inplace=True)"
   ]
  },
  {
   "cell_type": "markdown",
   "metadata": {},
   "source": [
    "**Feature 'doctypebranch'**"
   ]
  },
  {
   "cell_type": "code",
   "execution_count": 53,
   "metadata": {},
   "outputs": [
    {
     "name": "stdout",
     "output_type": "stream",
     "text": [
      "col : doctypebranch\n",
      "Total no. of unique values in the training set : 3\n",
      "Total no. of unique values in the test set : 3 \n",
      "\n",
      "Train set :  ['CHAMBER' 'COMMITTEE' 'GRANDCHAMBER'] \n",
      "\n",
      "Test set :  ['COMMITTEE' 'CHAMBER' 'GRANDCHAMBER'] \n",
      "\n"
     ]
    }
   ],
   "source": [
    "print(\"col : doctypebranch\")\n",
    "print(\"Total no. of unique values in the training set : {}\".format(train_df['doctypebranch'].nunique()))\n",
    "print(\"Total no. of unique values in the test set : {} \\n\".format(test_df['doctypebranch'].nunique()))\n",
    "print(\"Train set : \",train_df['doctypebranch'].unique(),\"\\n\")\n",
    "print(\"Test set : \",test_df['doctypebranch'].unique(),\"\\n\")"
   ]
  },
  {
   "cell_type": "markdown",
   "metadata": {},
   "source": [
    "**Feature 'ecli'**"
   ]
  },
  {
   "cell_type": "code",
   "execution_count": 54,
   "metadata": {},
   "outputs": [
    {
     "name": "stdout",
     "output_type": "stream",
     "text": [
      "col : ecli\n",
      "Total no. of unique values in the training set : 8878\n",
      "Total no. of unique values in the test set : 4760 \n",
      "\n",
      "Train set :  ['ECLI:CE:ECHR:2009:0528JUD000205208' 'ECLI:CE:ECHR:2018:0710JUD000472807'\n",
      " 'ECLI:CE:ECHR:2012:1018JUD004413506' ...\n",
      " 'ECLI:CE:ECHR:2007:1018JUD006725301' 'ECLI:CE:ECHR:1997:1219JUD002673795'\n",
      " 'ECLI:CE:ECHR:2007:1023JUD002169505'] \n",
      "\n",
      "Test set :  ['ECLI:CE:ECHR:2011:0224JUD000119404' 'ECLI:CE:ECHR:2015:1203JUD005386511'\n",
      " 'ECLI:CE:ECHR:2012:0119JUD004383807' ...\n",
      " 'ECLI:CE:ECHR:2012:0417JUD000080509' 'ECLI:CE:ECHR:2018:0712JUD004471116'\n",
      " 'ECLI:CE:ECHR:2019:0919JUD002115518'] \n",
      "\n"
     ]
    }
   ],
   "source": [
    "print(\"col : ecli\")\n",
    "print(\"Total no. of unique values in the training set : {}\".format(train_df['ecli'].nunique()))\n",
    "print(\"Total no. of unique values in the test set : {} \\n\".format(test_df['ecli'].nunique()))\n",
    "print(\"Train set : \",train_df['ecli'].unique(),\"\\n\")\n",
    "print(\"Test set : \",test_df['ecli'].unique(),\"\\n\")"
   ]
  },
  {
   "cell_type": "code",
   "execution_count": 55,
   "metadata": {},
   "outputs": [],
   "source": [
    "# This feature is basically unique id associated with a case and can be dropped.\n",
    "train_df.drop('ecli',axis=1,inplace=True)\n",
    "test_df.drop('ecli',axis=1,inplace=True)"
   ]
  },
  {
   "cell_type": "markdown",
   "metadata": {},
   "source": [
    "**Feature 'itemid'**"
   ]
  },
  {
   "cell_type": "code",
   "execution_count": 56,
   "metadata": {},
   "outputs": [
    {
     "name": "stdout",
     "output_type": "stream",
     "text": [
      "col : itemid\n",
      "Total no. of unique values in the training set : 8878\n",
      "Total no. of unique values in the test set : 4760 \n",
      "\n",
      "Train set :  ['001-92699' '001-184490' '001-113810' ... '001-82818' '001-58127'\n",
      " '001-82921'] \n",
      "\n",
      "Test set :  ['001-103613' '001-158963' '001-108659' ... '001-110382' '001-184485'\n",
      " '001-195866'] \n",
      "\n"
     ]
    }
   ],
   "source": [
    "print(\"col : itemid\")\n",
    "print(\"Total no. of unique values in the training set : {}\".format(train_df['itemid'].nunique()))\n",
    "print(\"Total no. of unique values in the test set : {} \\n\".format(test_df['itemid'].nunique()))\n",
    "print(\"Train set : \",train_df['itemid'].unique(),\"\\n\")\n",
    "print(\"Test set : \",test_df['itemid'].unique(),\"\\n\")"
   ]
  },
  {
   "cell_type": "code",
   "execution_count": 57,
   "metadata": {},
   "outputs": [],
   "source": [
    "# again a feature similar to ids and hence dropped.\n",
    "train_df.drop('itemid',axis=1,inplace=True)\n",
    "test_df.drop('itemid',axis=1,inplace=True)"
   ]
  },
  {
   "cell_type": "markdown",
   "metadata": {},
   "source": [
    "**Feature 'judgementdate'**"
   ]
  },
  {
   "cell_type": "code",
   "execution_count": 58,
   "metadata": {},
   "outputs": [
    {
     "name": "stdout",
     "output_type": "stream",
     "text": [
      "col : judgementdate\n",
      "Total no. of unique values in the training set : 1906\n",
      "Total no. of unique values in the test set : 1584 \n",
      "\n",
      "Train set :  ['28/05/2009' '10/07/2018' '18/10/2012' ... '29/10/2013' '04/12/2015'\n",
      " '19/12/1997'] \n",
      "\n",
      "Test set :  ['24/02/2011' '03/12/2015' '19/01/2012' ... '23/10/1990' '10/03/2009'\n",
      " '22/07/1999'] \n",
      "\n"
     ]
    }
   ],
   "source": [
    "print(\"col : judgementdate\")\n",
    "print(\"Total no. of unique values in the training set : {}\".format(train_df['judgementdate'].nunique()))\n",
    "print(\"Total no. of unique values in the test set : {} \\n\".format(test_df['judgementdate'].nunique()))\n",
    "print(\"Train set : \",train_df['judgementdate'].unique(),\"\\n\")\n",
    "print(\"Test set : \",test_df['judgementdate'].unique(),\"\\n\")"
   ]
  },
  {
   "cell_type": "code",
   "execution_count": 59,
   "metadata": {},
   "outputs": [],
   "source": [
    "# date like feature. We will come back to this later."
   ]
  },
  {
   "cell_type": "markdown",
   "metadata": {},
   "source": [
    "**Feature 'kpdate'**"
   ]
  },
  {
   "cell_type": "code",
   "execution_count": 60,
   "metadata": {},
   "outputs": [
    {
     "name": "stdout",
     "output_type": "stream",
     "text": [
      "col : kpdate\n",
      "Total no. of unique values in the training set : 1906\n",
      "Total no. of unique values in the test set : 1584 \n",
      "\n",
      "Train set :  ['28/05/2009' '10/07/2018' '18/10/2012' ... '29/10/2013' '04/12/2015'\n",
      " '19/12/1997'] \n",
      "\n",
      "Test set :  ['24/02/2011' '03/12/2015' '19/01/2012' ... '23/10/1990' '10/03/2009'\n",
      " '22/07/1999'] \n",
      "\n"
     ]
    }
   ],
   "source": [
    "print(\"col : kpdate\")\n",
    "print(\"Total no. of unique values in the training set : {}\".format(train_df['kpdate'].nunique()))\n",
    "print(\"Total no. of unique values in the test set : {} \\n\".format(test_df['kpdate'].nunique()))\n",
    "print(\"Train set : \",train_df['kpdate'].unique(),\"\\n\")\n",
    "print(\"Test set : \",test_df['kpdate'].unique(),\"\\n\")"
   ]
  },
  {
   "cell_type": "code",
   "execution_count": 61,
   "metadata": {},
   "outputs": [
    {
     "data": {
      "text/html": [
       "<div>\n",
       "<style scoped>\n",
       "    .dataframe tbody tr th:only-of-type {\n",
       "        vertical-align: middle;\n",
       "    }\n",
       "\n",
       "    .dataframe tbody tr th {\n",
       "        vertical-align: top;\n",
       "    }\n",
       "\n",
       "    .dataframe thead th {\n",
       "        text-align: right;\n",
       "    }\n",
       "</style>\n",
       "<table border=\"1\" class=\"dataframe\">\n",
       "  <thead>\n",
       "    <tr style=\"text-align: right;\">\n",
       "      <th></th>\n",
       "      <th>judgementdate</th>\n",
       "      <th>kpdate</th>\n",
       "    </tr>\n",
       "  </thead>\n",
       "  <tbody>\n",
       "    <tr>\n",
       "      <th>0</th>\n",
       "      <td>28/05/2009</td>\n",
       "      <td>28/05/2009</td>\n",
       "    </tr>\n",
       "    <tr>\n",
       "      <th>1</th>\n",
       "      <td>10/07/2018</td>\n",
       "      <td>10/07/2018</td>\n",
       "    </tr>\n",
       "    <tr>\n",
       "      <th>2</th>\n",
       "      <td>18/10/2012</td>\n",
       "      <td>18/10/2012</td>\n",
       "    </tr>\n",
       "    <tr>\n",
       "      <th>3</th>\n",
       "      <td>25/03/2014</td>\n",
       "      <td>25/03/2014</td>\n",
       "    </tr>\n",
       "    <tr>\n",
       "      <th>4</th>\n",
       "      <td>01/10/2009</td>\n",
       "      <td>01/10/2009</td>\n",
       "    </tr>\n",
       "    <tr>\n",
       "      <th>5</th>\n",
       "      <td>11/04/2002</td>\n",
       "      <td>11/04/2002</td>\n",
       "    </tr>\n",
       "    <tr>\n",
       "      <th>6</th>\n",
       "      <td>20/06/2006</td>\n",
       "      <td>20/06/2006</td>\n",
       "    </tr>\n",
       "    <tr>\n",
       "      <th>7</th>\n",
       "      <td>27/11/2007</td>\n",
       "      <td>27/11/2007</td>\n",
       "    </tr>\n",
       "    <tr>\n",
       "      <th>8</th>\n",
       "      <td>01/03/2001</td>\n",
       "      <td>01/03/2001</td>\n",
       "    </tr>\n",
       "    <tr>\n",
       "      <th>9</th>\n",
       "      <td>02/12/2008</td>\n",
       "      <td>02/12/2008</td>\n",
       "    </tr>\n",
       "  </tbody>\n",
       "</table>\n",
       "</div>"
      ],
      "text/plain": [
       "  judgementdate      kpdate\n",
       "0    28/05/2009  28/05/2009\n",
       "1    10/07/2018  10/07/2018\n",
       "2    18/10/2012  18/10/2012\n",
       "3    25/03/2014  25/03/2014\n",
       "4    01/10/2009  01/10/2009\n",
       "5    11/04/2002  11/04/2002\n",
       "6    20/06/2006  20/06/2006\n",
       "7    27/11/2007  27/11/2007\n",
       "8    01/03/2001  01/03/2001\n",
       "9    02/12/2008  02/12/2008"
      ]
     },
     "execution_count": 61,
     "metadata": {},
     "output_type": "execute_result"
    }
   ],
   "source": [
    "# looks like features 'judgementdate' and 'kpdate' represent the same thing.\n",
    "train_df[['judgementdate','kpdate']].head(10)"
   ]
  },
  {
   "cell_type": "code",
   "execution_count": 62,
   "metadata": {},
   "outputs": [
    {
     "data": {
      "text/html": [
       "<div>\n",
       "<style scoped>\n",
       "    .dataframe tbody tr th:only-of-type {\n",
       "        vertical-align: middle;\n",
       "    }\n",
       "\n",
       "    .dataframe tbody tr th {\n",
       "        vertical-align: top;\n",
       "    }\n",
       "\n",
       "    .dataframe thead th {\n",
       "        text-align: right;\n",
       "    }\n",
       "</style>\n",
       "<table border=\"1\" class=\"dataframe\">\n",
       "  <thead>\n",
       "    <tr style=\"text-align: right;\">\n",
       "      <th></th>\n",
       "      <th>judgementdate</th>\n",
       "      <th>kpdate</th>\n",
       "    </tr>\n",
       "  </thead>\n",
       "  <tbody>\n",
       "    <tr>\n",
       "      <th>0</th>\n",
       "      <td>24/02/2011</td>\n",
       "      <td>24/02/2011</td>\n",
       "    </tr>\n",
       "    <tr>\n",
       "      <th>1</th>\n",
       "      <td>03/12/2015</td>\n",
       "      <td>03/12/2015</td>\n",
       "    </tr>\n",
       "    <tr>\n",
       "      <th>2</th>\n",
       "      <td>19/01/2012</td>\n",
       "      <td>19/01/2012</td>\n",
       "    </tr>\n",
       "    <tr>\n",
       "      <th>3</th>\n",
       "      <td>04/07/2013</td>\n",
       "      <td>04/07/2013</td>\n",
       "    </tr>\n",
       "    <tr>\n",
       "      <th>4</th>\n",
       "      <td>26/02/2009</td>\n",
       "      <td>26/02/2009</td>\n",
       "    </tr>\n",
       "    <tr>\n",
       "      <th>5</th>\n",
       "      <td>12/03/2009</td>\n",
       "      <td>12/03/2009</td>\n",
       "    </tr>\n",
       "    <tr>\n",
       "      <th>6</th>\n",
       "      <td>27/11/2014</td>\n",
       "      <td>27/11/2014</td>\n",
       "    </tr>\n",
       "    <tr>\n",
       "      <th>7</th>\n",
       "      <td>12/02/2009</td>\n",
       "      <td>12/02/2009</td>\n",
       "    </tr>\n",
       "    <tr>\n",
       "      <th>8</th>\n",
       "      <td>23/10/2012</td>\n",
       "      <td>23/10/2012</td>\n",
       "    </tr>\n",
       "    <tr>\n",
       "      <th>9</th>\n",
       "      <td>13/01/2011</td>\n",
       "      <td>13/01/2011</td>\n",
       "    </tr>\n",
       "  </tbody>\n",
       "</table>\n",
       "</div>"
      ],
      "text/plain": [
       "  judgementdate      kpdate\n",
       "0    24/02/2011  24/02/2011\n",
       "1    03/12/2015  03/12/2015\n",
       "2    19/01/2012  19/01/2012\n",
       "3    04/07/2013  04/07/2013\n",
       "4    26/02/2009  26/02/2009\n",
       "5    12/03/2009  12/03/2009\n",
       "6    27/11/2014  27/11/2014\n",
       "7    12/02/2009  12/02/2009\n",
       "8    23/10/2012  23/10/2012\n",
       "9    13/01/2011  13/01/2011"
      ]
     },
     "execution_count": 62,
     "metadata": {},
     "output_type": "execute_result"
    }
   ],
   "source": [
    "test_df[['judgementdate','kpdate']].head(10)"
   ]
  },
  {
   "cell_type": "code",
   "execution_count": 63,
   "metadata": {},
   "outputs": [],
   "source": [
    "# So these two are duplicate features and we drop one of them.\n",
    "train_df.drop('kpdate',axis=1,inplace=True)\n",
    "test_df.drop('kpdate',axis=1,inplace=True)"
   ]
  },
  {
   "cell_type": "markdown",
   "metadata": {},
   "source": [
    "**Feature 'originatingbody_name'**"
   ]
  },
  {
   "cell_type": "code",
   "execution_count": 64,
   "metadata": {},
   "outputs": [
    {
     "name": "stdout",
     "output_type": "stream",
     "text": [
      "col : originatingbody_name\n",
      "Total no. of unique values in the training set : 13\n",
      "Total no. of unique values in the test set : 13 \n",
      "\n",
      "Train set :  ['First Section' 'Second Section Committee' 'Fith Section'\n",
      " 'Second Section' 'Fourth Section' 'Chamber' 'Fourth Section Committee'\n",
      " 'Fith Section Committee' 'Third Section Committee' 'Third Section'\n",
      " 'First Section Committee' 'Grand Chamber' 'Plenary'] \n",
      "\n",
      "Test set :  ['Fith Section Committee' 'Fith Section' 'First Section' 'Fourth Section'\n",
      " 'First Section Committee' 'Fourth Section Committee'\n",
      " 'Third Section Committee' 'Second Section Committee' 'Third Section'\n",
      " 'Second Section' 'Grand Chamber' 'Chamber' 'Plenary'] \n",
      "\n"
     ]
    }
   ],
   "source": [
    "print(\"col : originatingbody_name\")\n",
    "print(\"Total no. of unique values in the training set : {}\".format(train_df['originatingbody_name'].nunique()))\n",
    "print(\"Total no. of unique values in the test set : {} \\n\".format(test_df['originatingbody_name'].nunique()))\n",
    "print(\"Train set : \",train_df['originatingbody_name'].unique(),\"\\n\")\n",
    "print(\"Test set : \",test_df['originatingbody_name'].unique(),\"\\n\")"
   ]
  },
  {
   "cell_type": "code",
   "execution_count": 65,
   "metadata": {},
   "outputs": [
    {
     "name": "stdout",
     "output_type": "stream",
     "text": [
      "set()\n",
      "set()\n"
     ]
    }
   ],
   "source": [
    "# are all categories same in both the datasets?\n",
    "print(set(train_df['originatingbody_name'].unique()).difference(test_df['originatingbody_name']))\n",
    "print(set(test_df['originatingbody_name'].unique()).difference(train_df['originatingbody_name']))"
   ]
  },
  {
   "cell_type": "markdown",
   "metadata": {},
   "source": [
    "**Feature 'parties.0'**"
   ]
  },
  {
   "cell_type": "code",
   "execution_count": 66,
   "metadata": {},
   "outputs": [
    {
     "name": "stdout",
     "output_type": "stream",
     "text": [
      "col : parties.0\n",
      "Total no. of unique values in the training set : 8361\n",
      "Total no. of unique values in the test set : 4624 \n",
      "\n",
      "Train set :  ['KOKOSHKINA' 'ÖZCAN' 'DANIJEL PEČNIK' ... 'BABUSHKIN'\n",
      " 'BRUALLA GÓMEZ DE LA TORRE' 'TUR'] \n",
      "\n",
      "Test set :  ['CAMINSKI' 'KUSHCH' 'O.' ... 'PASCAL' 'DAOUKOPOULOS' 'VOGLREITER'] \n",
      "\n"
     ]
    }
   ],
   "source": [
    "print(\"col : parties.0\")\n",
    "print(\"Total no. of unique values in the training set : {}\".format(train_df['parties.0'].nunique()))\n",
    "print(\"Total no. of unique values in the test set : {} \\n\".format(test_df['parties.0'].nunique()))\n",
    "print(\"Train set : \",train_df['parties.0'].unique(),\"\\n\")\n",
    "print(\"Test set : \",test_df['parties.0'].unique(),\"\\n\")"
   ]
  },
  {
   "cell_type": "code",
   "execution_count": 67,
   "metadata": {},
   "outputs": [],
   "source": [
    "# if we go back to the dropped feature 'docname', we can associate the feature 'parties.0'  most likely to represent the name\n",
    "# of person filing the case. Since, we have dropped this info earlier, we will drop it this time also.\n",
    "\n",
    "train_df.drop('parties.0',axis=1,inplace=True)\n",
    "test_df.drop('parties.0',axis=1,inplace=True)"
   ]
  },
  {
   "cell_type": "markdown",
   "metadata": {},
   "source": [
    "**Feature 'parties.1'**"
   ]
  },
  {
   "cell_type": "code",
   "execution_count": 68,
   "metadata": {},
   "outputs": [
    {
     "name": "stdout",
     "output_type": "stream",
     "text": [
      "col : parties.1\n",
      "Total no. of unique values in the training set : 93\n",
      "Total no. of unique values in the test set : 76 \n",
      "\n",
      "Train set :  ['RUSSIA' 'TURKEY' 'SLOVENIA' 'SWITZERLAND' 'GREECE' 'POLAND'\n",
      " 'THE UNITED KINGDOM' 'HUNGARY' 'SPAIN' 'UKRAINE' 'MONTENEGRO'\n",
      " 'THE CZECH REPUBLIC [Extracts]' 'LITHUANIA' 'AZERBAIJAN' 'MOLDOVA'\n",
      " '\"THE FORMER YUGOSLAV REPUBLIC OF MACEDONIA\"' 'ROMANIA' 'SERBIA'\n",
      " 'GERMANY' 'BULGARIA' 'ALBANIA' 'AUSTRIA' 'CROATIA' 'SLOVAKIA' 'ITALY'\n",
      " 'FINLAND' 'FRANCE [Extracts]' 'SWEDEN' 'NORWAY' 'FRANCE' 'ICELAND'\n",
      " 'ARMENIA' 'MALTA' 'BELGIUM [Extracts]' 'BELGIUM' 'CYPRUS' 'GEORGIA'\n",
      " 'THE REPUBLIC OF MOLDOVA' 'PORTUGAL' 'THE CZECH REPUBLIC' 'DENMARK'\n",
      " 'LATVIA' 'ESTONIA' 'BOSNIA AND HERZEGOVINA' 'THE NETHERLANDS'\n",
      " 'THE REPUBLIC OF MOLDOVA AND RUSSIA' 'SAN MARINO AND ITALY'\n",
      " 'ITALY [Extracts]' 'IRELAND' 'ROMANIA [Extracts]' 'NORTH MACEDONIA'\n",
      " 'BULGARIA [Extracts]' 'LIECHTENSTEIN' 'AZERBAIJAN AND TURKEY'\n",
      " 'UKRAINE [Extracts]' 'ITALIE' 'MONTENEGRO AND SERBIA'\n",
      " 'ROMANIA AND BULGARIA' nan '\"THE FORMER YOUGOSLAV REPUBLIC OF MACEDONIA\"'\n",
      " 'TURKEY [Extracts]' 'SPAIN [Extracts]' 'FRANCE AND SPAIN'\n",
      " 'LITHUANIA AND SWEDEN' 'SAN MARINO' 'GERMANY [Extracts]'\n",
      " 'SLOVAKIA AND UKRAINE' 'ROMANIA AND HUNGARY' 'GEORGIA AND RUSSIA'\n",
      " 'CYPRUS AND TURKEY' 'RUSSIA AND UKRAINE AND UDALTSOV' 'LUXEMBOURG'\n",
      " 'GREECE [Extracts]' 'ARMENIA AND MOLDOVA' 'BELGIUM AND GREECE'\n",
      " 'LATVIA [Extracts]'\n",
      " 'BULGARIA - [English Translation] by European Roma Rights Centre \"ERRC\"'\n",
      " 'ANDORRA' 'MOLDOVA AND RUSSIA' 'CYPRUS AND RUSSIA' 'HUNGARY AND SLOVAKIA'\n",
      " 'HUNGARY NO.4'\n",
      " 'BOSNIA AND HERZEGOVINA, CROATIA, SERBIA, SLOVENIA AND \"THE FORMER YUGOSLAV REPUBLIC OF MACEDONIA\"'\n",
      " 'SLOVENIE' 'SLOVENIA (No. 2)'\n",
      " 'GREECE - [English Translation] by European Roma Rights Centre \"ERRC\"'\n",
      " 'RUSSIA AND UKRAINE' 'SAN MARINO [Extracts]' 'POLAND AND GERMANY'\n",
      " 'PORTUGAL [Extracts]' 'ALBANIA AND ITALY' 'ITALY (No. 2) [Extracts]'\n",
      " 'SWITZERLAND (No. 2) [Extracts]' 'SWITZERLAND [Extracts]'] \n",
      "\n",
      "Test set :  ['\"THE FORMER YUGOSLAV REPUBLIC OF MACEDONIA\"' 'UKRAINE' 'IRELAND'\n",
      " 'RUSSIA' 'BULGARIA' 'POLAND' 'GREECE' 'HUNGARY' 'GERMANY' 'AUSTRIA'\n",
      " 'CROATIA' 'LITHUANIA' 'MOLDOVA' 'SLOVENIA' 'FINLAND' 'TURKEY' 'ROMANIA'\n",
      " 'THE REPUBLIC OF MOLDOVA' 'THE CZECH REPUBLIC' 'DENMARK'\n",
      " 'THE UNITED KINGDOM' 'ALBANIA' 'SWEDEN' 'THE NETHERLANDS' 'SERBIA'\n",
      " 'SLOVAKIA' 'ICELAND' 'LATVIA' 'CYPRUS' 'NORTH MACEDONIA' 'GEORGIA'\n",
      " 'ITALY' 'SWITZERLAND' 'MALTA' 'SPAIN' 'PORTUGAL' 'BOSNIA AND HERZEGOVINA'\n",
      " 'ESTONIA' 'AZERBAIJAN' 'ARMENIA' 'TURKEY [Extracts]' 'SAN MARINO'\n",
      " 'NORWAY' 'SLOVENIA AND AUSTRIA' 'BELGIUM' 'MONTENEGRO' 'FRANCE' nan\n",
      " 'BELGIUM [Extracts]' 'GREECE [Extracts]'\n",
      " 'THE REPUBLIC OF MOLDOVA AND RUSSIA' 'THE CZECH REPUBLIC [Extracts]'\n",
      " 'FRANCE [Extracts]' 'GERMANY (No. 2)' 'ITALY [Extracts]'\n",
      " 'THE REPUBLIC OF MOLDOVA, RUSSIA AND UKRAINE' 'ROMANIA [Extracts]'\n",
      " 'SLOVENIE' 'HUNGARY AND GREECE' 'NETHERLANDS'\n",
      " 'BOSNIA AND HERZEGOVINA, CROATIA, SERBIA, SLOVENIA AND \"THE FORMER YUGOSLAV REPUBLIC OF MACEDONIA\"'\n",
      " 'SWITZERLAND [Extracts]' 'LUXEMBOURG' 'HUNGARY AND ITALY' 'ANDORRA'\n",
      " 'GREECE AND GERMANY' 'LIECHTENSTEIN' 'MONTENEGRO AND SERBIA'\n",
      " 'AZERBAIJAN AND HUNGARY' 'ALBANIA AND ITALY' 'ITALY AND BULGARIA'\n",
      " 'TURKEY (No. 2) [Extracts]'\n",
      " 'GREECE - [English Translation] by European Roma Rights Centre \"ERRC\"'\n",
      " 'ROMANIA AND THE UNITED KINGDOM' 'GREECE (No. 2) [Extracts]'\n",
      " 'POLAND AND GREECE' 'AUSTRIA (No. 3)'] \n",
      "\n"
     ]
    }
   ],
   "source": [
    "print(\"col : parties.1\")\n",
    "print(\"Total no. of unique values in the training set : {}\".format(train_df['parties.1'].nunique()))\n",
    "print(\"Total no. of unique values in the test set : {} \\n\".format(test_df['parties.1'].nunique()))\n",
    "print(\"Train set : \",train_df['parties.1'].unique(),\"\\n\")\n",
    "print(\"Test set : \",test_df['parties.1'].unique(),\"\\n\")"
   ]
  },
  {
   "cell_type": "code",
   "execution_count": 69,
   "metadata": {},
   "outputs": [
    {
     "data": {
      "text/html": [
       "<div>\n",
       "<style scoped>\n",
       "    .dataframe tbody tr th:only-of-type {\n",
       "        vertical-align: middle;\n",
       "    }\n",
       "\n",
       "    .dataframe tbody tr th {\n",
       "        vertical-align: top;\n",
       "    }\n",
       "\n",
       "    .dataframe thead th {\n",
       "        text-align: right;\n",
       "    }\n",
       "</style>\n",
       "<table border=\"1\" class=\"dataframe\">\n",
       "  <thead>\n",
       "    <tr style=\"text-align: right;\">\n",
       "      <th></th>\n",
       "      <th>country.alpha2</th>\n",
       "      <th>parties.1</th>\n",
       "    </tr>\n",
       "  </thead>\n",
       "  <tbody>\n",
       "    <tr>\n",
       "      <th>0</th>\n",
       "      <td>ru</td>\n",
       "      <td>RUSSIA</td>\n",
       "    </tr>\n",
       "    <tr>\n",
       "      <th>1</th>\n",
       "      <td>tr</td>\n",
       "      <td>TURKEY</td>\n",
       "    </tr>\n",
       "    <tr>\n",
       "      <th>2</th>\n",
       "      <td>si</td>\n",
       "      <td>SLOVENIA</td>\n",
       "    </tr>\n",
       "    <tr>\n",
       "      <th>3</th>\n",
       "      <td>ch</td>\n",
       "      <td>SWITZERLAND</td>\n",
       "    </tr>\n",
       "    <tr>\n",
       "      <th>4</th>\n",
       "      <td>ru</td>\n",
       "      <td>RUSSIA</td>\n",
       "    </tr>\n",
       "    <tr>\n",
       "      <th>5</th>\n",
       "      <td>gr</td>\n",
       "      <td>GREECE</td>\n",
       "    </tr>\n",
       "    <tr>\n",
       "      <th>6</th>\n",
       "      <td>pl</td>\n",
       "      <td>POLAND</td>\n",
       "    </tr>\n",
       "    <tr>\n",
       "      <th>7</th>\n",
       "      <td>gb</td>\n",
       "      <td>THE UNITED KINGDOM</td>\n",
       "    </tr>\n",
       "    <tr>\n",
       "      <th>8</th>\n",
       "      <td>hu</td>\n",
       "      <td>HUNGARY</td>\n",
       "    </tr>\n",
       "    <tr>\n",
       "      <th>9</th>\n",
       "      <td>tr</td>\n",
       "      <td>TURKEY</td>\n",
       "    </tr>\n",
       "  </tbody>\n",
       "</table>\n",
       "</div>"
      ],
      "text/plain": [
       "  country.alpha2           parties.1\n",
       "0             ru              RUSSIA\n",
       "1             tr              TURKEY\n",
       "2             si            SLOVENIA\n",
       "3             ch         SWITZERLAND\n",
       "4             ru              RUSSIA\n",
       "5             gr              GREECE\n",
       "6             pl              POLAND\n",
       "7             gb  THE UNITED KINGDOM\n",
       "8             hu             HUNGARY\n",
       "9             tr              TURKEY"
      ]
     },
     "execution_count": 69,
     "metadata": {},
     "output_type": "execute_result"
    }
   ],
   "source": [
    "# This feature seems to represent country names and might be duplicate with country.alpha2\n",
    "\n",
    "train_df[['country.alpha2','parties.1']].head(10)"
   ]
  },
  {
   "cell_type": "code",
   "execution_count": 70,
   "metadata": {},
   "outputs": [
    {
     "data": {
      "text/html": [
       "<div>\n",
       "<style scoped>\n",
       "    .dataframe tbody tr th:only-of-type {\n",
       "        vertical-align: middle;\n",
       "    }\n",
       "\n",
       "    .dataframe tbody tr th {\n",
       "        vertical-align: top;\n",
       "    }\n",
       "\n",
       "    .dataframe thead th {\n",
       "        text-align: right;\n",
       "    }\n",
       "</style>\n",
       "<table border=\"1\" class=\"dataframe\">\n",
       "  <thead>\n",
       "    <tr style=\"text-align: right;\">\n",
       "      <th></th>\n",
       "      <th>country.alpha2</th>\n",
       "      <th>parties.1</th>\n",
       "    </tr>\n",
       "  </thead>\n",
       "  <tbody>\n",
       "    <tr>\n",
       "      <th>0</th>\n",
       "      <td>mk</td>\n",
       "      <td>\"THE FORMER YUGOSLAV REPUBLIC OF MACEDONIA\"</td>\n",
       "    </tr>\n",
       "    <tr>\n",
       "      <th>1</th>\n",
       "      <td>ua</td>\n",
       "      <td>UKRAINE</td>\n",
       "    </tr>\n",
       "    <tr>\n",
       "      <th>2</th>\n",
       "      <td>ie</td>\n",
       "      <td>IRELAND</td>\n",
       "    </tr>\n",
       "    <tr>\n",
       "      <th>3</th>\n",
       "      <td>ru</td>\n",
       "      <td>RUSSIA</td>\n",
       "    </tr>\n",
       "    <tr>\n",
       "      <th>4</th>\n",
       "      <td>ru</td>\n",
       "      <td>RUSSIA</td>\n",
       "    </tr>\n",
       "  </tbody>\n",
       "</table>\n",
       "</div>"
      ],
      "text/plain": [
       "  country.alpha2                                    parties.1\n",
       "0             mk  \"THE FORMER YUGOSLAV REPUBLIC OF MACEDONIA\"\n",
       "1             ua                                      UKRAINE\n",
       "2             ie                                      IRELAND\n",
       "3             ru                                       RUSSIA\n",
       "4             ru                                       RUSSIA"
      ]
     },
     "execution_count": 70,
     "metadata": {},
     "output_type": "execute_result"
    }
   ],
   "source": [
    "test_df[['country.alpha2','parties.1']].head()"
   ]
  },
  {
   "cell_type": "code",
   "execution_count": 71,
   "metadata": {},
   "outputs": [],
   "source": [
    "# our guess is right! We drop this feature.\n",
    "\n",
    "train_df.drop('parties.1',axis=1,inplace=True)\n",
    "test_df.drop('parties.1',axis=1,inplace=True)"
   ]
  },
  {
   "cell_type": "markdown",
   "metadata": {},
   "source": [
    "**Feature 'respondent.0'**"
   ]
  },
  {
   "cell_type": "code",
   "execution_count": 72,
   "metadata": {},
   "outputs": [
    {
     "name": "stdout",
     "output_type": "stream",
     "text": [
      "col : respondent.0\n",
      "Total no. of unique values in the training set : 46\n",
      "Total no. of unique values in the test set : 46 \n",
      "\n",
      "Train set :  ['RUS' 'TUR' 'SVN' 'CHE' 'GRC' 'POL' 'GBR' 'HUN' 'ESP' 'UKR' 'MNE' 'CZE'\n",
      " 'LTU' 'AZE' 'MDA' 'MKD' 'ROU' 'SRB' 'DEU' 'BGR' 'ALB' 'AUT' 'HRV' 'SVK'\n",
      " 'ITA' 'FIN' 'FRA' 'SWE' 'NOR' 'ISL' 'ARM' 'MLT' 'BEL' 'CYP' 'GEO' 'PRT'\n",
      " 'DNK' 'LVA' 'EST' 'BIH' 'NLD' 'IRL' 'LIE' 'SMR' 'LUX' 'AND'] \n",
      "\n",
      "Test set :  ['MKD' 'UKR' 'IRL' 'RUS' 'BGR' 'POL' 'GRC' 'HUN' 'DEU' 'AUT' 'HRV' 'LTU'\n",
      " 'MDA' 'SVN' 'FIN' 'TUR' 'ROU' 'CZE' 'DNK' 'GBR' 'ALB' 'SWE' 'NLD' 'SRB'\n",
      " 'SVK' 'ISL' 'LVA' 'CYP' 'GEO' 'ITA' 'CHE' 'MLT' 'ESP' 'PRT' 'BIH' 'EST'\n",
      " 'AZE' 'ARM' 'SMR' 'NOR' 'BEL' 'MNE' 'FRA' 'LUX' 'AND' 'LIE'] \n",
      "\n"
     ]
    }
   ],
   "source": [
    "print(\"col : respondent.0\")\n",
    "print(\"Total no. of unique values in the training set : {}\".format(train_df['respondent.0'].nunique()))\n",
    "print(\"Total no. of unique values in the test set : {} \\n\".format(test_df['respondent.0'].nunique()))\n",
    "print(\"Train set : \",train_df['respondent.0'].unique(),\"\\n\")\n",
    "print(\"Test set : \",test_df['respondent.0'].unique(),\"\\n\")"
   ]
  },
  {
   "cell_type": "code",
   "execution_count": 73,
   "metadata": {},
   "outputs": [
    {
     "data": {
      "text/html": [
       "<div>\n",
       "<style scoped>\n",
       "    .dataframe tbody tr th:only-of-type {\n",
       "        vertical-align: middle;\n",
       "    }\n",
       "\n",
       "    .dataframe tbody tr th {\n",
       "        vertical-align: top;\n",
       "    }\n",
       "\n",
       "    .dataframe thead th {\n",
       "        text-align: right;\n",
       "    }\n",
       "</style>\n",
       "<table border=\"1\" class=\"dataframe\">\n",
       "  <thead>\n",
       "    <tr style=\"text-align: right;\">\n",
       "      <th></th>\n",
       "      <th>country.alpha2</th>\n",
       "      <th>respondent.0</th>\n",
       "    </tr>\n",
       "  </thead>\n",
       "  <tbody>\n",
       "    <tr>\n",
       "      <th>0</th>\n",
       "      <td>ru</td>\n",
       "      <td>RUS</td>\n",
       "    </tr>\n",
       "    <tr>\n",
       "      <th>1</th>\n",
       "      <td>tr</td>\n",
       "      <td>TUR</td>\n",
       "    </tr>\n",
       "    <tr>\n",
       "      <th>2</th>\n",
       "      <td>si</td>\n",
       "      <td>SVN</td>\n",
       "    </tr>\n",
       "    <tr>\n",
       "      <th>3</th>\n",
       "      <td>ch</td>\n",
       "      <td>CHE</td>\n",
       "    </tr>\n",
       "    <tr>\n",
       "      <th>4</th>\n",
       "      <td>ru</td>\n",
       "      <td>RUS</td>\n",
       "    </tr>\n",
       "    <tr>\n",
       "      <th>5</th>\n",
       "      <td>gr</td>\n",
       "      <td>GRC</td>\n",
       "    </tr>\n",
       "    <tr>\n",
       "      <th>6</th>\n",
       "      <td>pl</td>\n",
       "      <td>POL</td>\n",
       "    </tr>\n",
       "    <tr>\n",
       "      <th>7</th>\n",
       "      <td>gb</td>\n",
       "      <td>GBR</td>\n",
       "    </tr>\n",
       "    <tr>\n",
       "      <th>8</th>\n",
       "      <td>hu</td>\n",
       "      <td>HUN</td>\n",
       "    </tr>\n",
       "    <tr>\n",
       "      <th>9</th>\n",
       "      <td>tr</td>\n",
       "      <td>TUR</td>\n",
       "    </tr>\n",
       "  </tbody>\n",
       "</table>\n",
       "</div>"
      ],
      "text/plain": [
       "  country.alpha2 respondent.0\n",
       "0             ru          RUS\n",
       "1             tr          TUR\n",
       "2             si          SVN\n",
       "3             ch          CHE\n",
       "4             ru          RUS\n",
       "5             gr          GRC\n",
       "6             pl          POL\n",
       "7             gb          GBR\n",
       "8             hu          HUN\n",
       "9             tr          TUR"
      ]
     },
     "execution_count": 73,
     "metadata": {},
     "output_type": "execute_result"
    }
   ],
   "source": [
    "# again this info is likely to be same as the feature 'country.alpha2'\n",
    "train_df[['country.alpha2','respondent.0']].head(10)"
   ]
  },
  {
   "cell_type": "code",
   "execution_count": 74,
   "metadata": {},
   "outputs": [
    {
     "data": {
      "text/html": [
       "<div>\n",
       "<style scoped>\n",
       "    .dataframe tbody tr th:only-of-type {\n",
       "        vertical-align: middle;\n",
       "    }\n",
       "\n",
       "    .dataframe tbody tr th {\n",
       "        vertical-align: top;\n",
       "    }\n",
       "\n",
       "    .dataframe thead th {\n",
       "        text-align: right;\n",
       "    }\n",
       "</style>\n",
       "<table border=\"1\" class=\"dataframe\">\n",
       "  <thead>\n",
       "    <tr style=\"text-align: right;\">\n",
       "      <th></th>\n",
       "      <th>country.alpha2</th>\n",
       "      <th>respondent.0</th>\n",
       "    </tr>\n",
       "  </thead>\n",
       "  <tbody>\n",
       "    <tr>\n",
       "      <th>0</th>\n",
       "      <td>mk</td>\n",
       "      <td>MKD</td>\n",
       "    </tr>\n",
       "    <tr>\n",
       "      <th>1</th>\n",
       "      <td>ua</td>\n",
       "      <td>UKR</td>\n",
       "    </tr>\n",
       "    <tr>\n",
       "      <th>2</th>\n",
       "      <td>ie</td>\n",
       "      <td>IRL</td>\n",
       "    </tr>\n",
       "    <tr>\n",
       "      <th>3</th>\n",
       "      <td>ru</td>\n",
       "      <td>RUS</td>\n",
       "    </tr>\n",
       "    <tr>\n",
       "      <th>4</th>\n",
       "      <td>ru</td>\n",
       "      <td>RUS</td>\n",
       "    </tr>\n",
       "    <tr>\n",
       "      <th>5</th>\n",
       "      <td>ru</td>\n",
       "      <td>RUS</td>\n",
       "    </tr>\n",
       "    <tr>\n",
       "      <th>6</th>\n",
       "      <td>ua</td>\n",
       "      <td>UKR</td>\n",
       "    </tr>\n",
       "    <tr>\n",
       "      <th>7</th>\n",
       "      <td>bg</td>\n",
       "      <td>BGR</td>\n",
       "    </tr>\n",
       "    <tr>\n",
       "      <th>8</th>\n",
       "      <td>pl</td>\n",
       "      <td>POL</td>\n",
       "    </tr>\n",
       "    <tr>\n",
       "      <th>9</th>\n",
       "      <td>gr</td>\n",
       "      <td>GRC</td>\n",
       "    </tr>\n",
       "  </tbody>\n",
       "</table>\n",
       "</div>"
      ],
      "text/plain": [
       "  country.alpha2 respondent.0\n",
       "0             mk          MKD\n",
       "1             ua          UKR\n",
       "2             ie          IRL\n",
       "3             ru          RUS\n",
       "4             ru          RUS\n",
       "5             ru          RUS\n",
       "6             ua          UKR\n",
       "7             bg          BGR\n",
       "8             pl          POL\n",
       "9             gr          GRC"
      ]
     },
     "execution_count": 74,
     "metadata": {},
     "output_type": "execute_result"
    }
   ],
   "source": [
    "test_df[['country.alpha2','respondent.0']].head(10)"
   ]
  },
  {
   "cell_type": "code",
   "execution_count": 125,
   "metadata": {},
   "outputs": [],
   "source": [
    "# hence we drop it.\n",
    "train_df.drop('respondent.0',axis=1,inplace=True)\n",
    "test_df.drop('respondent.0',axis=1,inplace=True)"
   ]
  },
  {
   "cell_type": "code",
   "execution_count": 127,
   "metadata": {},
   "outputs": [
    {
     "data": {
      "text/plain": [
       "Index(['country.alpha2', 'doctypebranch', 'judgementdate',\n",
       "       'originatingbody_name'],\n",
       "      dtype='object')"
      ]
     },
     "execution_count": 127,
     "metadata": {},
     "output_type": "execute_result"
    }
   ],
   "source": [
    "# remaining cols with 'object' type\n",
    "train_df.select_dtypes(include='object').columns"
   ]
  },
  {
   "cell_type": "code",
   "execution_count": 128,
   "metadata": {},
   "outputs": [
    {
     "name": "stdout",
     "output_type": "stream",
     "text": [
      "The shape of the training set after dropping categorical features : (8878, 222)\n",
      "The shape of the test set after dropping categorical features : (4760, 221)\n"
     ]
    }
   ],
   "source": [
    "print(\"The shape of the training set after dropping categorical features : {}\".format(train_df.shape))\n",
    "print(\"The shape of the test set after dropping categorical features : {}\".format(test_df.shape))"
   ]
  },
  {
   "cell_type": "code",
   "execution_count": null,
   "metadata": {},
   "outputs": [],
   "source": []
  }
 ],
 "metadata": {
  "kernelspec": {
   "display_name": "Python 3",
   "language": "python",
   "name": "python3"
  },
  "language_info": {
   "codemirror_mode": {
    "name": "ipython",
    "version": 3
   },
   "file_extension": ".py",
   "mimetype": "text/x-python",
   "name": "python",
   "nbconvert_exporter": "python",
   "pygments_lexer": "ipython3",
   "version": "3.7.4"
  }
 },
 "nbformat": 4,
 "nbformat_minor": 4
}
